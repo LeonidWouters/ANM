{
 "cells": [
  {
   "cell_type": "code",
   "execution_count": 1,
   "metadata": {},
   "outputs": [],
   "source": [
    "import pandas as pd\n",
    "import geopandas as gpd"
   ]
  },
  {
   "cell_type": "code",
   "execution_count": 2,
   "metadata": {},
   "outputs": [],
   "source": [
    "wege_import = gpd.read_file(r\"Daten\\finaler_datensatz.gpkg\")"
   ]
  },
  {
   "cell_type": "code",
   "execution_count": null,
   "metadata": {},
   "outputs": [],
   "source": [
    "wege_import.shape"
   ]
  },
  {
   "cell_type": "code",
   "execution_count": 95,
   "metadata": {},
   "outputs": [],
   "source": [
    "wege = wege_import.copy()"
   ]
  },
  {
   "cell_type": "code",
   "execution_count": null,
   "metadata": {},
   "outputs": [],
   "source": [
    "# Zeige alle spalten\n",
    "pd.set_option('display.max_columns', None)\n",
    "wege.sort_values(by=['ABSCHNITTLÄNGE_IN_KM'], ascending=False).head(5)"
   ]
  },
  {
   "cell_type": "code",
   "execution_count": 97,
   "metadata": {},
   "outputs": [],
   "source": [
    "# Import Gemeindedaten\n",
    "gemeindetypologie_9 = pd.read_csv(r\"Daten\\ARE_Gemeindetypologie_2020_mit_9_Kategorien.csv\", sep=';')"
   ]
  },
  {
   "cell_type": "code",
   "execution_count": null,
   "metadata": {},
   "outputs": [],
   "source": [
    "gemeindetypologie_9.head(5)"
   ]
  },
  {
   "cell_type": "code",
   "execution_count": 99,
   "metadata": {},
   "outputs": [],
   "source": [
    "# Merge mit Wege\n",
    "wege = wege.merge(gemeindetypologie_9, left_on='HH_BFS_NR', right_on='GEO_ID', how='left')"
   ]
  },
  {
   "cell_type": "code",
   "execution_count": null,
   "metadata": {},
   "outputs": [],
   "source": [
    "wege.head(1)"
   ]
  },
  {
   "cell_type": "code",
   "execution_count": 101,
   "metadata": {},
   "outputs": [],
   "source": [
    "wege.drop(columns=['GEO_ID', 'GEO_NAME'], inplace=True)"
   ]
  },
  {
   "cell_type": "code",
   "execution_count": 102,
   "metadata": {},
   "outputs": [],
   "source": [
    "wege.rename(columns={'DESC_VAL': 'HH_RAUMTYPOLOGIE_9'}, inplace=True)"
   ]
  },
  {
   "cell_type": "code",
   "execution_count": null,
   "metadata": {},
   "outputs": [],
   "source": [
    "wege.head(1)"
   ]
  },
  {
   "cell_type": "code",
   "execution_count": null,
   "metadata": {},
   "outputs": [],
   "source": [
    "wege['HH_RAUMTYPOLOGIE_9'].value_counts()"
   ]
  },
  {
   "cell_type": "code",
   "execution_count": 105,
   "metadata": {},
   "outputs": [],
   "source": [
    "# Merge mit Wege\n",
    "wege = wege.merge(gemeindetypologie_9, left_on='WEGABSCHNITT_BFS_NR', right_on='GEO_ID', how='left')"
   ]
  },
  {
   "cell_type": "code",
   "execution_count": null,
   "metadata": {},
   "outputs": [],
   "source": [
    "wege.head(1)"
   ]
  },
  {
   "cell_type": "code",
   "execution_count": 107,
   "metadata": {},
   "outputs": [],
   "source": [
    "wege.drop(columns=['GEO_ID', 'GEO_NAME'], inplace=True)"
   ]
  },
  {
   "cell_type": "code",
   "execution_count": 108,
   "metadata": {},
   "outputs": [],
   "source": [
    "wege.rename(columns={'DESC_VAL': 'WEGABSCHNITT_RAUMTYPOLOGIE_9'}, inplace=True)"
   ]
  },
  {
   "cell_type": "code",
   "execution_count": null,
   "metadata": {},
   "outputs": [],
   "source": [
    "# Plotte 2021-08-09T17:48:31.751Z\n",
    "wege[wege['GIS_E_ID']=='2021-08-09T17:48:31.751Z'].explore(column='WEGABSCHNITT_STADT_LAND_TYPOLOGIE', cmap='cool', tiles='CartoDB positron' , legend=True)"
   ]
  },
  {
   "cell_type": "code",
   "execution_count": null,
   "metadata": {},
   "outputs": [],
   "source": [
    "wege[wege['ET_VERKEHRSMITTEL']== 'Zug'].sort_values(by=['HH_ORT'], ascending=False).head(5)"
   ]
  },
  {
   "cell_type": "code",
   "execution_count": null,
   "metadata": {},
   "outputs": [],
   "source": [
    "wege[wege['GIS_E_ID']=='2021-08-19T09:18:17.191Z'].explore(column='WEGABSCHNITT_STADT_LAND_TYPOLOGIE', cmap='cool', tiles='CartoDB positron' , legend=True)"
   ]
  },
  {
   "cell_type": "code",
   "execution_count": null,
   "metadata": {},
   "outputs": [],
   "source": [
    "wege.head(1)"
   ]
  },
  {
   "cell_type": "code",
   "execution_count": 113,
   "metadata": {},
   "outputs": [],
   "source": [
    "auto_wege = wege[wege['ET_VERKEHRSMITTEL']=='Auto']"
   ]
  },
  {
   "cell_type": "code",
   "execution_count": null,
   "metadata": {},
   "outputs": [],
   "source": [
    "# Durchschnittliches Baujahr der gesamten Fahrzeugflotte\n",
    "print(f\"Durchschnittliche erste Inverkehrssetzung der gesamten Fahrzeugflotte: \\n{auto_wege[auto_wege['FAHRZEUG_JAHR_ERSTE_INVERKEHRSSETZUNG'] > 0]['FAHRZEUG_JAHR_ERSTE_INVERKEHRSSETZUNG'].mean().round(0)}\")\n"
   ]
  },
  {
   "cell_type": "code",
   "execution_count": null,
   "metadata": {},
   "outputs": [],
   "source": [
    "auto_wege['FAHRZEUG_TREIBSTOFF'].replace({\n",
    "    1: 'Benzin',\n",
    "    2: 'Diesel',\n",
    "    3: 'E85/Bioethanol',\n",
    "    4: 'Erdgas/Biogas (CNG)',\n",
    "    5: 'Flüssiggas (LPG)',\n",
    "    6: 'Hybrid',\n",
    "    7: 'rein elektrisch',\n",
    "    8: 'elektrisch mit range-extender',\n",
    "    -99: 'Frage nur bei Auto',\n",
    "    -98: 'Keine Angabe',\n",
    "    -97: 'Weiss nicht',\n",
    "    95: 'andere'\n",
    "}, inplace=True)\n"
   ]
  },
  {
   "cell_type": "code",
   "execution_count": null,
   "metadata": {},
   "outputs": [],
   "source": [
    "auto_wege['FAHRZEUG_TREIBSTOFF'].value_counts()"
   ]
  },
  {
   "cell_type": "code",
   "execution_count": null,
   "metadata": {},
   "outputs": [],
   "source": [
    "# Durchschnittliches Baujahr für Benzin Flotte\n",
    "print(f\"Durchschnittliche erste Inverkehrssetzung der Benzin Flotte: \\n{auto_wege[(auto_wege['FAHRZEUG_JAHR_ERSTE_INVERKEHRSSETZUNG'] > 0) & (auto_wege['FAHRZEUG_TREIBSTOFF'] == 'Benzin')]['FAHRZEUG_JAHR_ERSTE_INVERKEHRSSETZUNG'].mean().round(0)}\")\n",
    "# Durchschnittliches Baujahr für Diesel Flotte\n",
    "print(f\"Durchschnittliche erste Inverkehrssetzung der Diesel Flotte: \\n{auto_wege[(auto_wege['FAHRZEUG_JAHR_ERSTE_INVERKEHRSSETZUNG'] > 0) & (auto_wege['FAHRZEUG_TREIBSTOFF'] == 'Diesel')]['FAHRZEUG_JAHR_ERSTE_INVERKEHRSSETZUNG'].mean().round(0)}\")\n",
    "# Durchschnittliches Baujahr für Hybrid Flotte\n",
    "print(f\"Durchschnittliche erste Inverkehrssetzung der Hybrid Flotte: \\n{auto_wege[(auto_wege['FAHRZEUG_JAHR_ERSTE_INVERKEHRSSETZUNG'] > 0) & (auto_wege['FAHRZEUG_TREIBSTOFF'] == 'Hybrid')]['FAHRZEUG_JAHR_ERSTE_INVERKEHRSSETZUNG'].mean().round(0)}\")\n",
    "# Durchschnittliches Baujahr für rein elektrisch Flotte\n",
    "print(f\"Durchschnittliche erste Inverkehrssetzung der rein elektrisch Flotte: \\n{auto_wege[(auto_wege['FAHRZEUG_JAHR_ERSTE_INVERKEHRSSETZUNG'] > 0) & (auto_wege['FAHRZEUG_TREIBSTOFF'] == 'rein elektrisch')]['FAHRZEUG_JAHR_ERSTE_INVERKEHRSSETZUNG'].mean().round(0)}\")\n",
    "# Durchschnittliches Baujahr für Erdgas/Biogas (CNG) Flotte\n",
    "print(f\"Durchschnittliche erste Inverkehrssetzung der Erdgas/Biogas (CNG) Flotte: \\n{auto_wege[(auto_wege['FAHRZEUG_JAHR_ERSTE_INVERKEHRSSETZUNG'] > 0) & (auto_wege['FAHRZEUG_TREIBSTOFF'] == 'Erdgas/Biogas (CNG)')]['FAHRZEUG_JAHR_ERSTE_INVERKEHRSSETZUNG'].mean().round(0)}\")\n",
    "# Durchschnittliches Baujahr für E85/Bioethanol Flotte\n",
    "print(f\"Durchschnittliche erste Inverkehrssetzung der E85/Bioethanol Flotte: \\n{auto_wege[(auto_wege['FAHRZEUG_JAHR_ERSTE_INVERKEHRSSETZUNG'] > 0) & (auto_wege['FAHRZEUG_TREIBSTOFF'] == 'E85/Bioethanol')]['FAHRZEUG_JAHR_ERSTE_INVERKEHRSSETZUNG'].mean().round(0)}\")\n",
    "# Durchschnittliches Baujahr für elektrisch mit range-extender Flotte\n",
    "print(f\"Durchschnittliche erste Inverkehrssetzung der elektrisch mit range-extender Flotte: \\n{auto_wege[(auto_wege['FAHRZEUG_JAHR_ERSTE_INVERKEHRSSETZUNG'] > 0) & (auto_wege['FAHRZEUG_TREIBSTOFF'] == 'elektrisch mit range-extender')]['FAHRZEUG_JAHR_ERSTE_INVERKEHRSSETZUNG'].mean().round(0)}\")\n",
    "# Durchschnittliches Baujahr für Flüssiggas (LPG) Flotte\n",
    "print(f\"Durchschnittliche erste Inverkehrssetzung der Flüssiggas (LPG) Flotte: \\n{auto_wege[(auto_wege['FAHRZEUG_JAHR_ERSTE_INVERKEHRSSETZUNG'] > 0) & (auto_wege['FAHRZEUG_TREIBSTOFF'] == 'Flüssiggas (LPG)')]['FAHRZEUG_JAHR_ERSTE_INVERKEHRSSETZUNG'].mean().round(0)}\")"
   ]
  },
  {
   "cell_type": "code",
   "execution_count": null,
   "metadata": {},
   "outputs": [],
   "source": [
    "# Durchschnittliches Gewicht der gesamten Fahrzeugflotte\n",
    "print(f\"Durchschnittliches Gewicht der gesamten Fahrzeugflotte: \\n{auto_wege[auto_wege['FAHRZEUG_GEWICHT'] > 0]['FAHRZEUG_GEWICHT'].mean().round(0)}\")"
   ]
  },
  {
   "cell_type": "code",
   "execution_count": null,
   "metadata": {},
   "outputs": [],
   "source": [
    "# Durchschnittliches Gewicht der Benzin Flotte\n",
    "print(f\"Durchschnittliches Gewicht der Benzin Flotte: \\n{auto_wege[(auto_wege['FAHRZEUG_GEWICHT'] > 0) & (auto_wege['FAHRZEUG_TREIBSTOFF'] == 'Benzin')]['FAHRZEUG_GEWICHT'].mean().round(0)}\")\n",
    "# Durchschnittliches Gewicht der Diesel Flotte\n",
    "print(f\"Durchschnittliches Gewicht der Diesel Flotte: \\n{auto_wege[(auto_wege['FAHRZEUG_GEWICHT'] > 0) & (auto_wege['FAHRZEUG_TREIBSTOFF'] == 'Diesel')]['FAHRZEUG_GEWICHT'].mean().round(0)}\")\n",
    "# Durchschnittliches Gewicht der Hybrid Flotte\n",
    "print(f\"Durchschnittliches Gewicht der Hybrid Flotte: \\n{auto_wege[(auto_wege['FAHRZEUG_GEWICHT'] > 0) & (auto_wege['FAHRZEUG_TREIBSTOFF'] == 'Hybrid')]['FAHRZEUG_GEWICHT'].mean().round(0)}\")\n",
    "# Durchschnittliches Gewicht der rein elektrisch Flotte\n",
    "print(f\"Durchschnittliches Gewicht der rein elektrisch Flotte: \\n{auto_wege[(auto_wege['FAHRZEUG_GEWICHT'] > 0) & (auto_wege['FAHRZEUG_TREIBSTOFF'] == 'rein elektrisch')]['FAHRZEUG_GEWICHT'].mean().round(0)}\")\n",
    "# Durchschnittliches Gewicht der Erdgas/Biogas (CNG) Flotte\n",
    "print(f\"Durchschnittliches Gewicht der Erdgas/Biogas (CNG) Flotte: \\n{auto_wege[(auto_wege['FAHRZEUG_GEWICHT'] > 0) & (auto_wege['FAHRZEUG_TREIBSTOFF'] == 'Erdgas/Biogas (CNG)')]['FAHRZEUG_GEWICHT'].mean().round(0)}\")\n",
    "# Durchschnittliches Gewicht der E85/Bioethanol Flotte\n",
    "print(f\"Durchschnittliches Gewicht der E85/Bioethanol Flotte: \\n{auto_wege[(auto_wege['FAHRZEUG_GEWICHT'] > 0) & (auto_wege['FAHRZEUG_TREIBSTOFF'] == 'E85/Bioethanol')]['FAHRZEUG_GEWICHT'].mean().round(0)}\")\n",
    "# Durchschnittliches Gewicht der elektrisch mit range-extender Flotte\n",
    "print(f\"Durchschnittliches Gewicht der elektrisch mit range-extender Flotte: \\n{auto_wege[(auto_wege['FAHRZEUG_GEWICHT'] > 0) & (auto_wege['FAHRZEUG_TREIBSTOFF'] == 'elektrisch mit range-extender')]['FAHRZEUG_GEWICHT'].mean().round(0)}\")\n",
    "# Durchschnittliches Gewicht der Flüssiggas (LPG) Flotte\n",
    "print(f\"Durchschnittliches Gewicht der Flüssiggas (LPG) Flotte: \\n{auto_wege[(auto_wege['FAHRZEUG_GEWICHT'] > 0) & (auto_wege['FAHRZEUG_TREIBSTOFF'] == 'Flüssiggas (LPG)')]['FAHRZEUG_GEWICHT'].mean().round(0)}\")"
   ]
  },
  {
   "cell_type": "code",
   "execution_count": null,
   "metadata": {},
   "outputs": [],
   "source": [
    "# Durchschnittlicher Verbrauch der gesamten Fahrzeugflotte\n",
    "print(f\"Durchschnittlicher Verbrauch der gesamten Fahrzeugflotte: \\n{auto_wege[auto_wege['FAHRZEUG_VERBRAUCH'] > 0]['FAHRZEUG_VERBRAUCH'].mean().round(1)}\")"
   ]
  },
  {
   "cell_type": "code",
   "execution_count": null,
   "metadata": {},
   "outputs": [],
   "source": [
    "# Durchschnittlicher Verbrauch der Benzin Flotte\n",
    "print(f\"Durchschnittlicher Verbrauch der Benzin Flotte: \\n{auto_wege[(auto_wege['FAHRZEUG_VERBRAUCH'] > 0) & (auto_wege['FAHRZEUG_TREIBSTOFF'] == 'Benzin')]['FAHRZEUG_VERBRAUCH'].mean().round(2)}\")\n",
    "# Durchschnittlicher Verbrauch der Diesel Flotte\n",
    "print(f\"Durchschnittlicher Verbrauch der Diesel Flotte: \\n{auto_wege[(auto_wege['FAHRZEUG_VERBRAUCH'] > 0) & (auto_wege['FAHRZEUG_TREIBSTOFF'] == 'Diesel')]['FAHRZEUG_VERBRAUCH'].mean().round(2)}\")\n",
    "# Durchschnittlicher Verbrauch der Hybrid Flotte\n",
    "print(f\"Durchschnittlicher Verbrauch der Hybrid Flotte: \\n{auto_wege[(auto_wege['FAHRZEUG_VERBRAUCH'] > 0) & (auto_wege['FAHRZEUG_TREIBSTOFF'] == 'Hybrid')]['FAHRZEUG_VERBRAUCH'].mean().round(2)}\")\n",
    "# Durchschnittlicher Verbrauch der rein elektrisch Flotte\n",
    "print(f\"Durchschnittlicher Verbrauch der rein elektrisch Flotte: \\n{auto_wege[(auto_wege['EL_Verbrauch'] > 0) & (auto_wege['FAHRZEUG_TREIBSTOFF'] == 'rein elektrisch')]['EL_Verbrauch'].mean()}\")\n",
    "# Durchschnittlicher Verbrauch der Erdgas/Biogas (CNG) Flotte\n",
    "print(f\"Durchschnittlicher Verbrauch der Erdgas/Biogas (CNG) Flotte: \\n{auto_wege[(auto_wege['FAHRZEUG_VERBRAUCH'] > 0) & (auto_wege['FAHRZEUG_TREIBSTOFF'] == 'Erdgas/Biogas (CNG)')]['FAHRZEUG_VERBRAUCH'].mean().round(2)}\")\n",
    "# Durchschnittlicher Verbrauch der E85/Bioethanol Flotte\n",
    "print(f\"Durchschnittlicher Verbrauch der E85/Bioethanol Flotte: \\n{auto_wege[(auto_wege['FAHRZEUG_VERBRAUCH'] > 0) & (auto_wege['FAHRZEUG_TREIBSTOFF'] == 'E85/Bioethanol')]['FAHRZEUG_VERBRAUCH'].mean().round(2)}\")\n",
    "# Durchschnittlicher Verbrauch der elektrisch mit range-extender Flotte\n",
    "print(f\"Durchschnittlicher Verbrauch der elektrisch mit range-extender Flotte: \\n{auto_wege[(auto_wege['EL_Verbrauch'] > 0) & (auto_wege['FAHRZEUG_TREIBSTOFF'] == 'elektrisch mit range-extender')]['EL_Verbrauch'].mean()}\")\n",
    "# Durchschnittlicher Verbrauch der Flüssiggas (LPG) Flotte\n",
    "print(f\"Durchschnittlicher Verbrauch der Flüssiggas (LPG) Flotte: \\n{auto_wege[(auto_wege['EL_Verbrauch'] > 0) & (auto_wege['FAHRZEUG_TREIBSTOFF'] == 'Flüssiggas (LPG)')]['EL_Verbrauch'].mean()}\")"
   ]
  },
  {
   "cell_type": "code",
   "execution_count": null,
   "metadata": {},
   "outputs": [],
   "source": [
    "# Durchschnittlicher km-Stand der gesamten Fahrzeugflotte\n",
    "print(f\"Durchschnittlicher km-Stand der gesamten Fahrzeugflotte: \\n{auto_wege[auto_wege['FAHRZEUG_KILOMETERSTAND'] > 0]['FAHRZEUG_KILOMETERSTAND'].mean().round(0)}\")"
   ]
  },
  {
   "cell_type": "code",
   "execution_count": null,
   "metadata": {},
   "outputs": [],
   "source": [
    "# Durchschnittlicher km-Stand der Benzin Flotte\n",
    "print(f\"Durchschnittlicher km-Stand der Benzin Flotte: \\n{auto_wege[(auto_wege['FAHRZEUG_KILOMETERSTAND'] > 0) & (auto_wege['FAHRZEUG_TREIBSTOFF'] == 'Benzin')]['FAHRZEUG_KILOMETERSTAND'].mean().round(0)}\")\n",
    "# Durchschnittlicher km-Stand der Diesel Flotte\n",
    "print(f\"Durchschnittlicher km-Stand der Diesel Flotte: \\n{auto_wege[(auto_wege['FAHRZEUG_KILOMETERSTAND'] > 0) & (auto_wege['FAHRZEUG_TREIBSTOFF'] == 'Diesel')]['FAHRZEUG_KILOMETERSTAND'].mean().round(0)}\")\n",
    "# Durchschnittlicher km-Stand der Hybrid Flotte\n",
    "print(f\"Durchschnittlicher km-Stand der Hybrid Flotte: \\n{auto_wege[(auto_wege['FAHRZEUG_KILOMETERSTAND'] > 0) & (auto_wege['FAHRZEUG_TREIBSTOFF'] == 'Hybrid')]['FAHRZEUG_KILOMETERSTAND'].mean().round(0)}\")\n",
    "# Durchschnittlicher km-Stand der rein elektrisch Flotte\n",
    "print(f\"Durchschnittlicher km-Stand der rein elektrisch Flotte: \\n{auto_wege[(auto_wege['FAHRZEUG_KILOMETERSTAND'] > 0) & (auto_wege['FAHRZEUG_TREIBSTOFF'] == 'rein elektrisch')]['FAHRZEUG_KILOMETERSTAND'].mean().round(0)}\")\n",
    "# Durchschnittlicher km-Stand der Erdgas/Biogas (CNG) Flotte\n",
    "print(f\"Durchschnittlicher km-Stand der Erdgas/Biogas (CNG) Flotte: \\n{auto_wege[(auto_wege['FAHRZEUG_KILOMETERSTAND'] > 0) & (auto_wege['FAHRZEUG_TREIBSTOFF'] == 'Erdgas/Biogas (CNG)')]['FAHRZEUG_KILOMETERSTAND'].mean().round(0)}\")\n",
    "# Durchschnittlicher km-Stand der E85/Bioethanol Flotte\n",
    "print(f\"Durchschnittlicher km-Stand der E85/Bioethanol Flotte: \\n{auto_wege[(auto_wege['FAHRZEUG_KILOMETERSTAND'] > 0) & (auto_wege['FAHRZEUG_TREIBSTOFF'] == 'E85/Bioethanol')]['FAHRZEUG_KILOMETERSTAND'].mean().round(0)}\")\n",
    "# Durchschnittlicher km-Stand der elektrisch mit range-extender Flotte\n",
    "print(f\"Durchschnittlicher km-Stand der elektrisch mit range-extender Flotte: \\n{auto_wege[(auto_wege['FAHRZEUG_KILOMETERSTAND'] > 0) & (auto_wege['FAHRZEUG_TREIBSTOFF'] == 'elektrisch mit range-extender')]['FAHRZEUG_KILOMETERSTAND'].mean().round(0)}\")\n",
    "# Durchschnittlicher km-Stand der Flüssiggas (LPG) Flotte\n",
    "print(f\"Durchschnittlicher km-Stand der Flüssiggas (LPG) Flotte: \\n{auto_wege[(auto_wege['FAHRZEUG_KILOMETERSTAND'] > 0) & (auto_wege['FAHRZEUG_TREIBSTOFF'] == 'Flüssiggas (LPG)')]['FAHRZEUG_KILOMETERSTAND'].mean().round(0)}\")"
   ]
  },
  {
   "cell_type": "code",
   "execution_count": null,
   "metadata": {},
   "outputs": [],
   "source": [
    "# Durchschnittliche jährliche KM-Leistung der gesamten Fahrzeugflotte\n",
    "print(f\"Durchschnittliche jährliche KM-Leistung der gesamten Fahrzeugflotte: \\n{auto_wege[auto_wege['FAHRZEUG_JAEHRLICHE_FAHRLEISTUNG'] > 0]['FAHRZEUG_JAEHRLICHE_FAHRLEISTUNG'].mean().round(0)}\")"
   ]
  },
  {
   "cell_type": "code",
   "execution_count": null,
   "metadata": {},
   "outputs": [],
   "source": [
    "# Durchschnittliche jährliche KM-Leistung der Benzin Flotte\n",
    "print(f\"Durchschnittliche jährliche KM-Leistung der Benzin Flotte: \\n{auto_wege[(auto_wege['FAHRZEUG_JAEHRLICHE_FAHRLEISTUNG'] > 0) & (auto_wege['FAHRZEUG_TREIBSTOFF'] == 'Benzin')]['FAHRZEUG_JAEHRLICHE_FAHRLEISTUNG'].mean().round(0)}\")\n",
    "# Durchschnittliche jährliche KM-Leistung der Diesel Flotte\n",
    "print(f\"Durchschnittliche jährliche KM-Leistung der Diesel Flotte: \\n{auto_wege[(auto_wege['FAHRZEUG_JAEHRLICHE_FAHRLEISTUNG'] > 0) & (auto_wege['FAHRZEUG_TREIBSTOFF'] == 'Diesel')]['FAHRZEUG_JAEHRLICHE_FAHRLEISTUNG'].mean().round(0)}\")\n",
    "# Durchschnittliche jährliche KM-Leistung der Hybrid Flotte\n",
    "print(f\"Durchschnittliche jährliche KM-Leistung der Hybrid Flotte: \\n{auto_wege[(auto_wege['FAHRZEUG_JAEHRLICHE_FAHRLEISTUNG'] > 0) & (auto_wege['FAHRZEUG_TREIBSTOFF'] == 'Hybrid')]['FAHRZEUG_JAEHRLICHE_FAHRLEISTUNG'].mean().round(0)}\")\n",
    "# Durchschnittliche jährliche KM-Leistung der rein elektrisch Flotte\n",
    "print(f\"Durchschnittliche jährliche KM-Leistung der rein elektrisch Flotte: \\n{auto_wege[(auto_wege['FAHRZEUG_JAEHRLICHE_FAHRLEISTUNG'] > 0) & (auto_wege['FAHRZEUG_TREIBSTOFF'] == 'rein elektrisch')]['FAHRZEUG_JAEHRLICHE_FAHRLEISTUNG'].mean().round(0)}\")\n",
    "# Durchschnittliche jährliche KM-Leistung der Erdgas/Biogas (CNG) Flotte\n",
    "print(f\"Durchschnittliche jährliche KM-Leistung der Erdgas/Biogas (CNG) Flotte: \\n{auto_wege[(auto_wege['FAHRZEUG_JAEHRLICHE_FAHRLEISTUNG'] > 0) & (auto_wege['FAHRZEUG_TREIBSTOFF'] == 'Erdgas/Biogas (CNG)')]['FAHRZEUG_JAEHRLICHE_FAHRLEISTUNG'].mean().round(0)}\")\n",
    "# Durchschnittliche jährliche KM-Leistung der E85/Bioethanol Flotte\n",
    "print(f\"Durchschnittliche jährliche KM-Leistung der E85/Bioethanol Flotte: \\n{auto_wege[(auto_wege['FAHRZEUG_JAEHRLICHE_FAHRLEISTUNG'] > 0) & (auto_wege['FAHRZEUG_TREIBSTOFF'] == 'E85/Bioethanol')]['FAHRZEUG_JAEHRLICHE_FAHRLEISTUNG'].mean().round(0)}\")\n",
    "# Durchschnittliche jährliche KM-Leistung der elektrisch mit range-extender Flotte\n",
    "print(f\"Durchschnittliche jährliche KM-Leistung der elektrisch mit range-extender Flotte: \\n{auto_wege[(auto_wege['FAHRZEUG_JAEHRLICHE_FAHRLEISTUNG'] > 0) & (auto_wege['FAHRZEUG_TREIBSTOFF'] == 'elektrisch mit range-extender')]['FAHRZEUG_JAEHRLICHE_FAHRLEISTUNG'].mean().round(0)}\")\n",
    "# Durchschnittliche jährliche KM-Leistung der Flüssiggas (LPG) Flotte\n",
    "print(f\"Durchschnittliche jährliche KM-Leistung der Flüssiggas (LPG) Flotte: \\n{auto_wege[(auto_wege['FAHRZEUG_JAEHRLICHE_FAHRLEISTUNG'] > 0) & (auto_wege['FAHRZEUG_TREIBSTOFF'] == 'Flüssiggas (LPG)')]['FAHRZEUG_JAEHRLICHE_FAHRLEISTUNG'].mean().round(0)}\")"
   ]
  },
  {
   "cell_type": "code",
   "execution_count": null,
   "metadata": {},
   "outputs": [],
   "source": [
    "# Anzahl wege pro Treibstoff\n",
    "auto_wege['FAHRZEUG_TREIBSTOFF'].value_counts()"
   ]
  },
  {
   "cell_type": "code",
   "execution_count": null,
   "metadata": {},
   "outputs": [],
   "source": [
    "# Gesamtlänge der Wege pro Treibstoff\n",
    "auto_wege.groupby('FAHRZEUG_TREIBSTOFF')['ABSCHNITTLÄNGE_IN_KM'].sum().round(0)"
   ]
  },
  {
   "cell_type": "code",
   "execution_count": 128,
   "metadata": {},
   "outputs": [],
   "source": [
    "auto_wege_land = auto_wege[auto_wege['WEGABSCHNITT_STADT_LAND_TYPOLOGIE'] == 'Ländlich (3)']"
   ]
  },
  {
   "cell_type": "code",
   "execution_count": null,
   "metadata": {},
   "outputs": [],
   "source": [
    "# Summe der Distanzen pro Treibstoff in ländlichen Gebieten\n",
    "auto_wege_land.groupby('FAHRZEUG_TREIBSTOFF')['ABSCHNITTLÄNGE_IN_KM'].sum().round(0)\n"
   ]
  },
  {
   "cell_type": "code",
   "execution_count": 130,
   "metadata": {},
   "outputs": [],
   "source": [
    "auto_wege_intermediär = auto_wege[auto_wege['WEGABSCHNITT_STADT_LAND_TYPOLOGIE'] == 'Intermediär (2)']"
   ]
  },
  {
   "cell_type": "code",
   "execution_count": null,
   "metadata": {},
   "outputs": [],
   "source": [
    "# Summe der Distanzen pro Treibstoff in intermediären Gebieten\n",
    "auto_wege_intermediär.groupby('FAHRZEUG_TREIBSTOFF')['ABSCHNITTLÄNGE_IN_KM'].sum().round(0)"
   ]
  },
  {
   "cell_type": "code",
   "execution_count": 132,
   "metadata": {},
   "outputs": [],
   "source": [
    "auto_wege_stadt = auto_wege[auto_wege['WEGABSCHNITT_STADT_LAND_TYPOLOGIE'] == 'Städtisch (1)']"
   ]
  },
  {
   "cell_type": "code",
   "execution_count": null,
   "metadata": {},
   "outputs": [],
   "source": [
    "# Summe der Distanzen pro Treibstoff in städtischen Gebieten\n",
    "auto_wege_stadt.groupby('FAHRZEUG_TREIBSTOFF')['ABSCHNITTLÄNGE_IN_KM'].sum().round(0)"
   ]
  },
  {
   "cell_type": "code",
   "execution_count": null,
   "metadata": {},
   "outputs": [],
   "source": [
    "# Verkehrsmittel\n",
    "wege['ET_VERKEHRSMITTEL'].value_counts()"
   ]
  },
  {
   "cell_type": "code",
   "execution_count": 135,
   "metadata": {},
   "outputs": [],
   "source": [
    "wege['ET_VERKEHRSMITTEL'].replace({1: 'Zu Fuss',\n",
    "                                   2: 'Velo',\n",
    "                                   3: 'E-Bike',\n",
    "                                   4: 'E-Bike',\n",
    "                                   5: 'Mofar',\n",
    "                                   6: 'Kleinmotorrad',\n",
    "                                   11: 'Zug',\n",
    "                                   12: 'Bus',\n",
    "                                   13: 'Tram',\n",
    "                                   14: 'Taxi',\n",
    "                                   15: 'Taxi',\n",
    "                                   16: 'Reisecar',\n",
    "                                   17: 'Lastwagen',\n",
    "                                   18: 'Schiff/Boot',\n",
    "                                   19: 'Flugzeug',\n",
    "                                   20: 'Bergbahnen',\n",
    "                                   21: 'Fahrzeugähnliche Geräte',\n",
    "                                   -99: 'Pseudoetappe',\n",
    "                                   -98: 'Keine Angabe',\n",
    "                                   -97: 'Weiss nicht',\n",
    "                                   95: 'andere'\n",
    "                                   }, inplace=True)\n"
   ]
  },
  {
   "cell_type": "code",
   "execution_count": null,
   "metadata": {},
   "outputs": [],
   "source": [
    "# Gesamtdistanz pro Verkehrsmittel\n",
    "wege.groupby('ET_VERKEHRSMITTEL')['ABSCHNITTLÄNGE_IN_KM'].sum().round(0)"
   ]
  },
  {
   "cell_type": "code",
   "execution_count": null,
   "metadata": {},
   "outputs": [],
   "source": [
    "# Durchschnittsalter Motorrad\n",
    "print(f\"Durchschnittsalter Motorrad: \\n{wege[(wege['FAHRZEUG_JAHR_ERSTE_INVERKEHRSSETZUNG'] > 0) & (wege['ET_VERKEHRSMITTEL'] == 'Motorrad')]['FAHRZEUG_JAHR_ERSTE_INVERKEHRSSETZUNG'].mean().round(0)}\")\n",
    "# Jährliche Fahrleistung Motorrad\n",
    "print(f\"Jährliche Fahrleistung Motorrad: \\n{wege[(wege['FAHRZEUG_JAEHRLICHE_FAHRLEISTUNG'] > 0) & (wege['ET_VERKEHRSMITTEL'] == 'Motorrad')]['FAHRZEUG_JAEHRLICHE_FAHRLEISTUNG'].mean().round(0)}\")"
   ]
  },
  {
   "cell_type": "code",
   "execution_count": null,
   "metadata": {},
   "outputs": [],
   "source": [
    "# Gesamtdistanz pro Verkehrsmittel in ländlichen Gebieten\n",
    "wege_land = wege[wege['WEGABSCHNITT_STADT_LAND_TYPOLOGIE'] == 'Ländlich (3)']\n",
    "wege_land.groupby('ET_VERKEHRSMITTEL')['ABSCHNITTLÄNGE_IN_KM'].sum().round(0)"
   ]
  },
  {
   "cell_type": "code",
   "execution_count": null,
   "metadata": {},
   "outputs": [],
   "source": [
    "wege_intermediär = wege[wege['WEGABSCHNITT_STADT_LAND_TYPOLOGIE'] == 'Intermediär (2)']\n",
    "wege_intermediär.groupby('ET_VERKEHRSMITTEL')['ABSCHNITTLÄNGE_IN_KM'].sum().round(0)"
   ]
  },
  {
   "cell_type": "code",
   "execution_count": null,
   "metadata": {},
   "outputs": [],
   "source": [
    "wege_stadt = wege[wege['WEGABSCHNITT_STADT_LAND_TYPOLOGIE'] == 'Städtisch (1)']\n",
    "wege_stadt.groupby('ET_VERKEHRSMITTEL')['ABSCHNITTLÄNGE_IN_KM'].sum().round(0)"
   ]
  },
  {
   "cell_type": "code",
   "execution_count": null,
   "metadata": {},
   "outputs": [],
   "source": [
    "wege.head(1)"
   ]
  },
  {
   "cell_type": "code",
   "execution_count": 142,
   "metadata": {},
   "outputs": [],
   "source": [
    "# Werte der Spalte HH_STADT_LAND ändern\n",
    "wege['HH_STADT_LAND'].replace({1: 'Städtisch (1)',\n",
    "                               2: 'Intermediär (2)',\n",
    "                               3: 'Ländlich (3)'}, inplace=True)"
   ]
  },
  {
   "cell_type": "code",
   "execution_count": 143,
   "metadata": {},
   "outputs": [],
   "source": [
    "# Berechne für jede HH_STAD_LANDT die kumulierte Distanz pro WEGABSCHNITT_STADT_LAND_TYPOLOGIE in einer 3x3 Matrix\n",
    "matrix = wege.groupby(['HH_STADT_LAND', 'WEGABSCHNITT_STADT_LAND_TYPOLOGIE'])['ABSCHNITTLÄNGE_IN_KM'].sum().unstack().round(0)"
   ]
  },
  {
   "cell_type": "code",
   "execution_count": null,
   "metadata": {},
   "outputs": [],
   "source": [
    "# Heatmap der matrix\n",
    "import seaborn as sns\n",
    "import matplotlib.pyplot as plt\n",
    "# Sortiere nach städtisch, intermediär, ländlich\n",
    "# Reorder the rows and columns as requested\n",
    "matrix = matrix.reindex(index=['Ländlich (3)', 'Intermediär (2)', 'Städtisch (1)'],\n",
    "                        columns=['Städtisch (1)', 'Intermediär (2)', 'Ländlich (3)'])\n",
    "\n",
    "# Normalize each row\n",
    "matrix_normalized = matrix.div(matrix.max(axis=1), axis=0)\n",
    "\n",
    "# Create the heatmap with normalized values and show original values in the cells\n",
    "plt.figure(figsize=(8, 6))\n",
    "sns.heatmap(matrix_normalized, cmap='plasma', annot=matrix, fmt=\".0f\", linewidths=.5, linecolor='black',\n",
    "            cbar_kws={'label': 'Relative Distanz pro Zeile'})\n",
    "\n",
    "plt.xlabel('Emissionsort Stadt-Land Typologie')\n",
    "plt.ylabel('Haushalt Stadt-Land Typologie')\n"
   ]
  },
  {
   "cell_type": "code",
   "execution_count": null,
   "metadata": {},
   "outputs": [],
   "source": [
    "# Count values for FAHRZEUG_TREIBSTOFF\n",
    "wege['FAHRZEUG_TREIBSTOFF'].value_counts()"
   ]
  },
  {
   "cell_type": "code",
   "execution_count": 146,
   "metadata": {},
   "outputs": [],
   "source": [
    "wege['FAHRZEUG_TREIBSTOFF'].replace({1.0: 'Benzin',\n",
    "                                    2.0: 'Diesel',\n",
    "                                    3.0: 'E85/Bioethanol',\n",
    "                                    4.0: 'Erdgas/Biogas (CNG)',\n",
    "                                    5.0: 'Flüssiggas (LPG)',\n",
    "                                    6.0: 'Hybrid',\n",
    "                                    7.0: 'rein elektrisch',\n",
    "                                    8.0: 'elektrisch mit range-extender'}, inplace=True)"
   ]
  },
  {
   "cell_type": "code",
   "execution_count": 147,
   "metadata": {},
   "outputs": [],
   "source": [
    "wege['FAHRZEUG_TREIBSTOFF'].replace({'elektrisch mit range-extender': 'rein elektrisch',\n",
    "                                    'Flüssiggas (LPG)': 'E85/Bioethanol'}, inplace=True)"
   ]
  },
  {
   "cell_type": "code",
   "execution_count": null,
   "metadata": {},
   "outputs": [],
   "source": [
    "# Count values for FAHRZEUG_TREIBSTOFF\n",
    "wege['FAHRZEUG_TREIBSTOFF'].value_counts()"
   ]
  },
  {
   "cell_type": "code",
   "execution_count": null,
   "metadata": {},
   "outputs": [],
   "source": [
    "# Create the dataframe with the information of the co2e values per km\n",
    "co2e_values_auto = pd.DataFrame({'FAHRZEUG_TREIBSTOFF': ['Benzin', 'Diesel', 'E85/Bioethanol', 'Erdgas/Biogas (CNG)', 'Hybrid', 'rein elektrisch'],\n",
    "                                'CO2E_KG_KM_AUTO': [200.4, 190.1, 220.2, 147.1, 164.6, 106.4]})\n",
    "co2e_values_auto"
   ]
  },
  {
   "cell_type": "code",
   "execution_count": 150,
   "metadata": {},
   "outputs": [],
   "source": [
    "# Merge the co2e values with the wege dataframe\n",
    "wege = wege.merge(co2e_values_auto, on='FAHRZEUG_TREIBSTOFF', how='left')"
   ]
  },
  {
   "cell_type": "code",
   "execution_count": null,
   "metadata": {},
   "outputs": [],
   "source": [
    "co2e_values_other = pd.DataFrame({'ET_VERKEHRSMITTEL': ['Motorrad',\n",
    "                                                        'Lastwagen',\n",
    "                                                        'Zug',\n",
    "                                                        'Bus',\n",
    "                                                        'Tram',\n",
    "                                                        'Taxi',\n",
    "                                                        'Reisecar',\n",
    "                                                        'Kleinmotorrad',\n",
    "                                                        'Mofa',\n",
    "                                                        'Velo',\n",
    "                                                        'E-Bike',],\n",
    "                                'CO2E_KG_KM_OTHER': [229.5,\n",
    "                                               222.6,\n",
    "                                               7.1,\n",
    "                                               134.3,\n",
    "                                               42.7,\n",
    "                                               190.1,\n",
    "                                               46.7,\n",
    "                                               155.8,\n",
    "                                               134.1,\n",
    "                                               5.6,\n",
    "                                               11.3]})\n",
    "co2e_values_other"
   ]
  },
  {
   "cell_type": "code",
   "execution_count": 152,
   "metadata": {},
   "outputs": [],
   "source": [
    "# Merge the co2e values with the wege dataframe\n",
    "wege = wege.merge(co2e_values_other, on='ET_VERKEHRSMITTEL', how='left')"
   ]
  },
  {
   "cell_type": "code",
   "execution_count": null,
   "metadata": {},
   "outputs": [],
   "source": [
    "wege.head(5)"
   ]
  },
  {
   "cell_type": "code",
   "execution_count": 154,
   "metadata": {},
   "outputs": [],
   "source": [
    "# Calculate the total CO2e emissions for each trip\n",
    "import numpy as np\n",
    "wege['CO2E_TOTAL'] = np.where(\n",
    "    wege['ET_VERKEHRSMITTEL'] == 'Auto',\n",
    "    wege['ABSCHNITTLÄNGE_IN_KM'] * wege['CO2E_KG_KM_AUTO'],\n",
    "    wege['ABSCHNITTLÄNGE_IN_KM'] * wege['CO2E_KG_KM_OTHER'])"
   ]
  },
  {
   "cell_type": "code",
   "execution_count": null,
   "metadata": {},
   "outputs": [],
   "source": [
    "wege.head(5)"
   ]
  },
  {
   "cell_type": "code",
   "execution_count": 156,
   "metadata": {},
   "outputs": [],
   "source": [
    "# Berechne für jede HH_STAD_LANDT die kumulierte Distanz pro WEGABSCHNITT_STADT_LAND_TYPOLOGIE in einer 3x3 Matrix\n",
    "matrix_co2e = wege.groupby(['HH_STADT_LAND', 'WEGABSCHNITT_STADT_LAND_TYPOLOGIE'])['CO2E_TOTAL'].sum().unstack().round(0)"
   ]
  },
  {
   "cell_type": "code",
   "execution_count": null,
   "metadata": {},
   "outputs": [],
   "source": [
    "# Heatmap der matrix\n",
    "import seaborn as sns\n",
    "import matplotlib.pyplot as plt\n",
    "# Sortiere nach städtisch, intermediär, ländlich\n",
    "# Reorder the rows and columns as requested\n",
    "matrix_co2e = matrix_co2e.reindex(index=['Ländlich (3)', 'Intermediär (2)', 'Städtisch (1)'],\n",
    "                        columns=['Städtisch (1)', 'Intermediär (2)', 'Ländlich (3)'])\n",
    "\n",
    "# Normalize each row\n",
    "matrix_normalized = matrix_co2e.div(matrix_co2e.max(axis=1), axis=0)\n",
    "\n",
    "# Create the heatmap with normalized values and show original values in the cells\n",
    "plt.figure(figsize=(8, 6))\n",
    "sns.heatmap(matrix_normalized, cmap='plasma', annot=matrix_co2e / 1000, fmt=\".0f\", linewidths=.5, linecolor='black',\n",
    "            cbar_kws={'label': 'Relative Distanz pro Zeile'})\n",
    "\n",
    "# Update the annotations to include \"kg\"\n",
    "for text in plt.gca().texts:\n",
    "    text.set_text(f\"{text.get_text()} kg\")\n",
    "\n",
    "plt.xlabel('Emissionsort Stadt-Land Typologie')\n",
    "plt.ylabel('Haushalt Stadt-Land Typologie')"
   ]
  },
  {
   "cell_type": "code",
   "execution_count": 202,
   "metadata": {},
   "outputs": [],
   "source": [
    "matrix_raumtypologie_9 = wege.groupby(['HH_RAUMTYPOLOGIE_9', 'WEGABSCHNITT_STADT_LAND_TYPOLOGIE'])['CO2E_TOTAL'].sum().unstack().round(0)"
   ]
  },
  {
   "cell_type": "code",
   "execution_count": null,
   "metadata": {},
   "outputs": [],
   "source": [
    "matrix_raumtypologie_9"
   ]
  },
  {
   "cell_type": "code",
   "execution_count": null,
   "metadata": {},
   "outputs": [],
   "source": [
    "# Sortiere nach städtisch, intermediär, ländlich\n",
    "# Reorder the rows and columns as requested\n",
    "matrix_raumtypologie_9 = matrix_raumtypologie_9.reindex(index=['Ländliche periphere Gemeinde (33)', 'Ländliche zentral gelegene Gemeinde (32)', 'Ländliche Zentrumsgemeinde (31)',   'Periurbane Gemeinde geringer Dichte (23)', 'Periurbane Gemeinde mittlerer Dichte (22)', 'Periurbane Gemeinde hoher Dichte (21)', 'Städtische Gemeinde einer kleinen oder ausserhalb einer Agglomeration (13)', 'Städtische Gemeinde einer mittelgrossen Agglomeration (12)', 'Städtische Gemeinde einer grossen Agglomeration (11)'],\n",
    "                        columns=['Städtisch (1)', 'Intermediär (2)', 'Ländlich (3)'])\n",
    "\n",
    "# Normalize each row\n",
    "matrix_normalized = matrix_raumtypologie_9.div(matrix_raumtypologie_9.max(axis=1), axis=0)\n",
    "\n",
    "palette = sns.blend_palette([\"green\", \"yellow\", \"red\"], as_cmap=True)\n",
    "# Create the heatmap with normalized values and show original values in the cells\n",
    "plt.figure(figsize=(8, 6))\n",
    "heatmap = sns.heatmap(matrix_normalized, cmap=palette, annot=matrix_raumtypologie_9 / 1000, fmt=\".0f\", linewidths=.5, linecolor='black',\n",
    "            cbar_kws={'label': 'Relative CO2e Emissionen pro Zeile'})\n",
    "colorbar = heatmap.collections[0].colorbar\n",
    "colorbar.set_label('Relative CO2e Emissionen pro Zeile', fontsize=14)  # Schriftgröße des Labels\n",
    "# Update the annotations to include \"kg\"\n",
    "for text in plt.gca().texts:\n",
    "    text.set_text(f\"{text.get_text()} kg\")\n",
    "\n",
    "plt.xlabel('Emissionsort Stadt-Land Typologie', fontsize=14)\n",
    "plt.ylabel('Haushalt Gemeindetypologie 9', fontsize=14)"
   ]
  },
  {
   "cell_type": "code",
   "execution_count": 205,
   "metadata": {},
   "outputs": [],
   "source": [
    "matrix_raumtypologie_9_wegabschnitt = wege.groupby(['HH_RAUMTYPOLOGIE_9', 'WEGABSCHNITT_RAUMTYPOLOGIE_9'])['CO2E_TOTAL'].sum().unstack().round(0)"
   ]
  },
  {
   "cell_type": "code",
   "execution_count": null,
   "metadata": {},
   "outputs": [],
   "source": [
    "# Sortiere nach städtisch, intermediär, ländlich\n",
    "# Reorder the rows and columns as requested\n",
    "matrix_raumtypologie_9_wegabschnitt = matrix_raumtypologie_9_wegabschnitt.reindex(index=['Ländliche periphere Gemeinde (33)', 'Ländliche zentral gelegene Gemeinde (32)', 'Ländliche Zentrumsgemeinde (31)',   'Periurbane Gemeinde geringer Dichte (23)', 'Periurbane Gemeinde mittlerer Dichte (22)', 'Periurbane Gemeinde hoher Dichte (21)', 'Städtische Gemeinde einer kleinen oder ausserhalb einer Agglomeration (13)', 'Städtische Gemeinde einer mittelgrossen Agglomeration (12)', 'Städtische Gemeinde einer grossen Agglomeration (11)'],\n",
    "                        columns=['Städtische Gemeinde einer grossen Agglomeration (11)', 'Städtische Gemeinde einer mittelgrossen Agglomeration (12)', 'Städtische Gemeinde einer kleinen oder ausserhalb einer Agglomeration (13)','Periurbane Gemeinde hoher Dichte (21)','Periurbane Gemeinde mittlerer Dichte (22)','Periurbane Gemeinde geringer Dichte (23)','Ländliche Zentrumsgemeinde (31)','Ländliche zentral gelegene Gemeinde (32)','Ländliche periphere Gemeinde (33)'])\n",
    "\n",
    "# Normalize each row\n",
    "matrix_normalized = matrix_raumtypologie_9_wegabschnitt.div(matrix_raumtypologie_9_wegabschnitt.max(axis=1), axis=0)\n",
    "\n",
    "palette = sns.blend_palette([\"green\", \"yellow\", \"red\"], as_cmap=True)\n",
    "# Create the heatmap with normalized values and show original values in the cells\n",
    "plt.figure(figsize=(12, 8))\n",
    "# Heatmap erstellen\n",
    "heatmap = sns.heatmap(\n",
    "    matrix_normalized,\n",
    "    cmap=palette,\n",
    "    annot=matrix_raumtypologie_9_wegabschnitt / 1000,\n",
    "    fmt=\".0f\",\n",
    "    linewidths=.5,\n",
    "    linecolor='black',\n",
    "    cbar_kws={'label': 'Relative CO2e Emissionen pro Zeile'}\n",
    ")\n",
    "colorbar = heatmap.collections[0].colorbar\n",
    "colorbar.set_label('Relative CO2e Emissionen pro Zeile', fontsize=14)  # Schriftgröße des Labels\n",
    "# Zentrierte X-Ticks\n",
    "plt.xticks(ticks=[i + 0.5 for i in range(9)],  # Mittelpunkte der Spalten\n",
    "           labels=['(11)', '(12)', '(13)', '(21)', '(22)', '(23)', '(31)', '(32)', '(33)'],\n",
    "           rotation=0, ha='center')  # Rotiert und zentriert\n",
    "\n",
    "# Update the annotations to include \"kg\"\n",
    "for text in plt.gca().texts:\n",
    "    text.set_text(f\"{text.get_text()} kg\")\n",
    "\n",
    "plt.xlabel('Emissionsort Gemeindetypologie 9', fontsize=14)\n",
    "plt.ylabel('Haushalt Gemeindetypologie 9', fontsize=14)"
   ]
  },
  {
   "cell_type": "markdown",
   "metadata": {},
   "source": [
    "__KARTEN EMISSIONSORT__"
   ]
  },
  {
   "cell_type": "code",
   "execution_count": null,
   "metadata": {},
   "outputs": [],
   "source": [
    "# Berechne pro WEGABSCHNITT_BFS_NR die Totale CO2e Emission\n",
    "emissions_per_bfs = pd.DataFrame(wege.groupby('WEGABSCHNITT_BFS_NR')['CO2E_TOTAL'].sum().round(0))\n",
    "emissions_per_bfs"
   ]
  },
  {
   "cell_type": "code",
   "execution_count": 68,
   "metadata": {},
   "outputs": [],
   "source": [
    "gemeinden = gpd.read_file(r\"Daten\\Externe_Daten\\swissBOUNDARIES3D_1_5_LV95_LN02.gpkg\", layer='tlm_hoheitsgebiet')"
   ]
  },
  {
   "cell_type": "code",
   "execution_count": null,
   "metadata": {},
   "outputs": [],
   "source": [
    "gemeinden.head(1)"
   ]
  },
  {
   "cell_type": "code",
   "execution_count": 70,
   "metadata": {},
   "outputs": [],
   "source": [
    "gemeinden = gemeinden[['bfs_nummer', 'geometry', 'einwohnerzahl', 'gem_flaeche', 'name']]\n",
    "gemeinden['einwohnerdichte']=gemeinden['einwohnerzahl']/gemeinden['gem_flaeche']"
   ]
  },
  {
   "cell_type": "code",
   "execution_count": 71,
   "metadata": {},
   "outputs": [],
   "source": [
    "# Merge the emissions per bfs with the gemeinden dataframe\n",
    "emissions_per_bfs = emissions_per_bfs.merge(gemeinden, left_index=True, right_on='bfs_nummer', how='left')"
   ]
  },
  {
   "cell_type": "code",
   "execution_count": null,
   "metadata": {},
   "outputs": [],
   "source": [
    "emissions_per_bfs.head()"
   ]
  },
  {
   "cell_type": "code",
   "execution_count": 73,
   "metadata": {},
   "outputs": [],
   "source": [
    "# Calculate the CO2e emissions per capita\n",
    "emissions_per_bfs['CO2E_PER_CAPITA'] = emissions_per_bfs['CO2E_TOTAL'] / emissions_per_bfs['einwohnerzahl']\n",
    "emissions_per_bfs['CO2E_PER_CAPITA'].fillna(0.0, inplace=True)"
   ]
  },
  {
   "cell_type": "code",
   "execution_count": 74,
   "metadata": {},
   "outputs": [],
   "source": [
    "emissions_per_bfs['CO2E_PER_KM2'] = emissions_per_bfs['CO2E_TOTAL'] / emissions_per_bfs['gem_flaeche']\n",
    "emissions_per_bfs['CO2E_PER_KM2'].fillna(0.0, inplace=True)"
   ]
  },
  {
   "cell_type": "code",
   "execution_count": 75,
   "metadata": {},
   "outputs": [],
   "source": [
    "emissions_per_bfs['CO2E_PER_EINWOHNERDICHTE'] = emissions_per_bfs['CO2E_TOTAL'] / emissions_per_bfs['einwohnerdichte']\n",
    "emissions_per_bfs['CO2E_PER_EINWOHNERDICHTE'].fillna(0.0, inplace=True)"
   ]
  },
  {
   "cell_type": "code",
   "execution_count": 76,
   "metadata": {},
   "outputs": [],
   "source": [
    "emissions_per_bfs = gpd.GeoDataFrame(emissions_per_bfs, geometry='geometry')"
   ]
  },
  {
   "cell_type": "code",
   "execution_count": null,
   "metadata": {},
   "outputs": [],
   "source": [
    "emissions_per_bfs"
   ]
  },
  {
   "cell_type": "code",
   "execution_count": null,
   "metadata": {},
   "outputs": [],
   "source": [
    "# Plot a map of the CO2e emissions per bfs\n",
    "interactive_map = emissions_per_bfs[['bfs_nummer', 'CO2E_TOTAL', 'geometry', 'CO2E_PER_CAPITA', 'CO2E_PER_KM2', 'name']]\n",
    "interactive_map.explore(column='CO2E_PER_KM2', cmap='plasma', legend=True, tooltip=['name', 'CO2E_PER_KM2'])"
   ]
  },
  {
   "cell_type": "code",
   "execution_count": null,
   "metadata": {},
   "outputs": [],
   "source": [
    "interactive_map['CO2E_LOG'] = np.log1p(interactive_map['CO2E_PER_CAPITA'])"
   ]
  },
  {
   "cell_type": "code",
   "execution_count": null,
   "metadata": {},
   "outputs": [],
   "source": [
    "cmap = 'plasma'\n",
    "interactive_map.explore(column='CO2E_LOG', cmap=cmap, legend=True, tooltip=['name','CO2E_PER_CAPITA'])"
   ]
  },
  {
   "cell_type": "code",
   "execution_count": null,
   "metadata": {},
   "outputs": [],
   "source": [
    "# Plot a map of the CO2e emissions per bfs\n",
    "interactive_map = emissions_per_bfs[['bfs_nummer', 'CO2E_TOTAL', 'geometry', 'CO2E_PER_CAPITA', 'CO2E_PER_KM2', 'name', 'einwohnerdichte', 'CO2E_PER_EINWOHNERDICHTE']]\n",
    "interactive_map.explore(column='CO2E_TOTAL', cmap='plasma', legend=True, tooltip=['name', 'CO2E_PER_EINWOHNERDICHTE'])"
   ]
  },
  {
   "cell_type": "markdown",
   "metadata": {},
   "source": [
    "__KARTEN WOHNORT__"
   ]
  },
  {
   "cell_type": "code",
   "execution_count": null,
   "metadata": {},
   "outputs": [],
   "source": [
    "wege.head(1)"
   ]
  },
  {
   "cell_type": "code",
   "execution_count": null,
   "metadata": {},
   "outputs": [],
   "source": [
    "# Berechne pro HH_BFS_NR die Totale CO2e Emission\n",
    "emissions_per_bfs_hh = pd.DataFrame(wege.groupby('HH_BFS_NR')['CO2E_TOTAL'].sum().round(0))\n",
    "emissions_per_bfs_hh"
   ]
  },
  {
   "cell_type": "code",
   "execution_count": 84,
   "metadata": {},
   "outputs": [],
   "source": [
    "# Merge the emissions per bfs with the gemeinden dataframe\n",
    "emissions_per_bfs_hh = emissions_per_bfs_hh.merge(gemeinden, left_index=True, right_on='bfs_nummer', how='left')"
   ]
  },
  {
   "cell_type": "code",
   "execution_count": null,
   "metadata": {},
   "outputs": [],
   "source": [
    "emissions_per_bfs_hh.head(1)"
   ]
  },
  {
   "cell_type": "code",
   "execution_count": 86,
   "metadata": {},
   "outputs": [],
   "source": [
    "# Calculate the CO2e emissions per capita\n",
    "emissions_per_bfs_hh['CO2E_PER_CAPITA'] = emissions_per_bfs_hh['CO2E_TOTAL'] / emissions_per_bfs_hh['einwohnerzahl']\n",
    "emissions_per_bfs_hh['CO2E_PER_CAPITA'].fillna(0.0, inplace=True)"
   ]
  },
  {
   "cell_type": "code",
   "execution_count": 87,
   "metadata": {},
   "outputs": [],
   "source": [
    "emissions_per_bfs_hh['CO2E_PER_KM2'] = emissions_per_bfs_hh['CO2E_TOTAL'] / emissions_per_bfs_hh['gem_flaeche']\n",
    "emissions_per_bfs_hh['CO2E_PER_KM2'].fillna(0.0, inplace=True)"
   ]
  },
  {
   "cell_type": "code",
   "execution_count": 88,
   "metadata": {},
   "outputs": [],
   "source": [
    "emissions_per_bfs_hh['CO2E_PER_EINWOHNERDICHTE'] = emissions_per_bfs_hh['CO2E_TOTAL'] / emissions_per_bfs_hh['einwohnerdichte']\n",
    "emissions_per_bfs_hh['CO2E_PER_EINWOHNERDICHTE'].fillna(0.0, inplace=True)"
   ]
  },
  {
   "cell_type": "code",
   "execution_count": null,
   "metadata": {},
   "outputs": [],
   "source": [
    "emissions_per_bfs_hh.head(1)"
   ]
  },
  {
   "cell_type": "code",
   "execution_count": 90,
   "metadata": {},
   "outputs": [],
   "source": [
    "emissions_per_bfs_hh = gpd.GeoDataFrame(emissions_per_bfs_hh, geometry='geometry')"
   ]
  },
  {
   "cell_type": "code",
   "execution_count": 91,
   "metadata": {},
   "outputs": [],
   "source": [
    "interactive_map_hh = emissions_per_bfs_hh[['bfs_nummer', 'CO2E_TOTAL', 'geometry', 'CO2E_PER_CAPITA', 'CO2E_PER_KM2', 'name']]"
   ]
  },
  {
   "cell_type": "code",
   "execution_count": null,
   "metadata": {},
   "outputs": [],
   "source": [
    "interactive_map_hh['CO2E_LOG'] = np.log1p(interactive_map_hh['CO2E_PER_CAPITA'])"
   ]
  },
  {
   "cell_type": "code",
   "execution_count": null,
   "metadata": {},
   "outputs": [],
   "source": [
    "interactive_map_hh.explore(column='CO2E_LOG', cmap='plasma', legend=True, tooltip=['name','CO2E_PER_CAPITA'])"
   ]
  },
  {
   "cell_type": "code",
   "execution_count": null,
   "metadata": {},
   "outputs": [],
   "source": []
  }
 ],
 "metadata": {
  "kernelspec": {
   "display_name": "base",
   "language": "python",
   "name": "python3"
  },
  "language_info": {
   "codemirror_mode": {
    "name": "ipython",
    "version": 3
   },
   "file_extension": ".py",
   "mimetype": "text/x-python",
   "name": "python",
   "nbconvert_exporter": "python",
   "pygments_lexer": "ipython3",
   "version": "3.9.18"
  }
 },
 "nbformat": 4,
 "nbformat_minor": 2
}
