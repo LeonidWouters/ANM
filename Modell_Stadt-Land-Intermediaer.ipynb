{
 "cells": [
  {
   "cell_type": "markdown",
   "metadata": {},
   "source": [
    "## Modellierung (1)"
   ]
  },
  {
   "cell_type": "markdown",
   "metadata": {},
   "source": [
    "### Modell stadt-land-intermediär & sozioökonomische-Faktoren"
   ]
  },
  {
   "cell_type": "markdown",
   "metadata": {},
   "source": [
    "Multiple lineare Regression nach Raumstruktur (stadt-land-intermediär & sozioökonomische-Faktoren)\n",
    "1) ohne sozioökonomische Faktoren\n",
    "2) dann Erweiterung\n",
    "\n",
    "unabhängige Variable (X-Parameter) :\n",
    "- Numerisch: Alter\n",
    "- Kategorisch: Haushaltseinkommen, Geschlecht, Raum\n",
    "\n",
    "abhängige Variable (Y-Parameter) : \n",
    "- CO₂-Emissionen\n",
    "\n",
    "Szenario-Analyse: \n",
    "Analog zu Literatur-Erkenntnissen (e.g., Bevölkerungszuwachs in Städten etc.)"
   ]
  },
  {
   "cell_type": "markdown",
   "metadata": {},
   "source": [
    "## 0. Vorbereitung: Import der benötigten Python-Libraries "
   ]
  },
  {
   "cell_type": "code",
   "execution_count": 1,
   "metadata": {
    "vscode": {
     "languageId": "markdown"
    }
   },
   "outputs": [],
   "source": [
    "import pandas as pd\n",
    "import geopandas as gpd\n",
    "import numpy as np\n",
    "import seaborn as sns                       #visualisation\n",
    "import matplotlib.pyplot as plt             #visualisation\n",
    "%matplotlib inline     \n",
    "sns.set(color_codes=True)\n",
    "from sklearn.model_selection import train_test_split"
   ]
  },
  {
   "cell_type": "code",
   "execution_count": 2,
   "metadata": {
    "vscode": {
     "languageId": "markdown"
    }
   },
   "outputs": [],
   "source": [
    "# Spezifisch für die linearen Modelle:\n",
    "import sklearn as sklearn\n",
    "import statsmodels.api as sm\n",
    "import statsmodels.formula.api as smf"
   ]
  },
  {
   "cell_type": "code",
   "execution_count": 3,
   "metadata": {
    "vscode": {
     "languageId": "markdown"
    }
   },
   "outputs": [
    {
     "data": {
      "text/html": [
       "<div>\n",
       "<style scoped>\n",
       "    .dataframe tbody tr th:only-of-type {\n",
       "        vertical-align: middle;\n",
       "    }\n",
       "\n",
       "    .dataframe tbody tr th {\n",
       "        vertical-align: top;\n",
       "    }\n",
       "\n",
       "    .dataframe thead th {\n",
       "        text-align: right;\n",
       "    }\n",
       "</style>\n",
       "<table border=\"1\" class=\"dataframe\">\n",
       "  <thead>\n",
       "    <tr style=\"text-align: right;\">\n",
       "      <th></th>\n",
       "      <th>HHNR</th>\n",
       "      <th>HH_BFS_NR</th>\n",
       "      <th>HH_PLZ</th>\n",
       "      <th>HH_ORT</th>\n",
       "      <th>HH_KANTON</th>\n",
       "      <th>HH_OEV_GUETEKLASSE</th>\n",
       "      <th>HH_STADT_LAND</th>\n",
       "      <th>HH_HAUSHALTSGROESSE</th>\n",
       "      <th>HH_HAUSHALTSEINKOMMEN</th>\n",
       "      <th>ZP_ALTER</th>\n",
       "      <th>...</th>\n",
       "      <th>FAHRZEUG_ENERGIEEFFIZIENZKLASSE</th>\n",
       "      <th>FAHRZEUG_VERBRAUCH</th>\n",
       "      <th>EL_Verbrauch</th>\n",
       "      <th>FAHRZEUG_JAHR_ERSTE_INVERKEHRSSETZUNG</th>\n",
       "      <th>ABSCHNITTLÄNGE_IN_KM</th>\n",
       "      <th>HH_RAUMTYPOLOGIE_9</th>\n",
       "      <th>CO2E_KG_KM_AUTO</th>\n",
       "      <th>CO2E_KG_KM_OTHER</th>\n",
       "      <th>CO2E_TOTAL</th>\n",
       "      <th>geometry</th>\n",
       "    </tr>\n",
       "  </thead>\n",
       "  <tbody>\n",
       "    <tr>\n",
       "      <th>0</th>\n",
       "      <td>110001</td>\n",
       "      <td>5624</td>\n",
       "      <td>1030</td>\n",
       "      <td>Bussigny</td>\n",
       "      <td>22</td>\n",
       "      <td>3</td>\n",
       "      <td>Städtisch (1)</td>\n",
       "      <td>2</td>\n",
       "      <td>5</td>\n",
       "      <td>57</td>\n",
       "      <td>...</td>\n",
       "      <td>D</td>\n",
       "      <td>-99.0</td>\n",
       "      <td>-99.0</td>\n",
       "      <td>-97.0</td>\n",
       "      <td>0.414223</td>\n",
       "      <td>Städtische Gemeinde einer grossen Agglomeratio...</td>\n",
       "      <td>200.4</td>\n",
       "      <td>NaN</td>\n",
       "      <td>83.010354</td>\n",
       "      <td>LINESTRING Z (2532653.357 1155702.624 420.558,...</td>\n",
       "    </tr>\n",
       "    <tr>\n",
       "      <th>1</th>\n",
       "      <td>110001</td>\n",
       "      <td>5624</td>\n",
       "      <td>1030</td>\n",
       "      <td>Bussigny</td>\n",
       "      <td>22</td>\n",
       "      <td>3</td>\n",
       "      <td>Städtisch (1)</td>\n",
       "      <td>2</td>\n",
       "      <td>5</td>\n",
       "      <td>57</td>\n",
       "      <td>...</td>\n",
       "      <td>D</td>\n",
       "      <td>-99.0</td>\n",
       "      <td>-99.0</td>\n",
       "      <td>-97.0</td>\n",
       "      <td>0.307909</td>\n",
       "      <td>Städtische Gemeinde einer grossen Agglomeratio...</td>\n",
       "      <td>200.4</td>\n",
       "      <td>NaN</td>\n",
       "      <td>61.705018</td>\n",
       "      <td>LINESTRING Z (2532933.573 1155665.561 430.418,...</td>\n",
       "    </tr>\n",
       "    <tr>\n",
       "      <th>2</th>\n",
       "      <td>110001</td>\n",
       "      <td>5624</td>\n",
       "      <td>1030</td>\n",
       "      <td>Bussigny</td>\n",
       "      <td>22</td>\n",
       "      <td>3</td>\n",
       "      <td>Städtisch (1)</td>\n",
       "      <td>2</td>\n",
       "      <td>5</td>\n",
       "      <td>57</td>\n",
       "      <td>...</td>\n",
       "      <td>D</td>\n",
       "      <td>-99.0</td>\n",
       "      <td>-99.0</td>\n",
       "      <td>-97.0</td>\n",
       "      <td>0.586282</td>\n",
       "      <td>Städtische Gemeinde einer grossen Agglomeratio...</td>\n",
       "      <td>200.4</td>\n",
       "      <td>NaN</td>\n",
       "      <td>117.490869</td>\n",
       "      <td>LINESTRING Z (2533071.108 1155894.339 430.657,...</td>\n",
       "    </tr>\n",
       "    <tr>\n",
       "      <th>3</th>\n",
       "      <td>110001</td>\n",
       "      <td>5624</td>\n",
       "      <td>1030</td>\n",
       "      <td>Bussigny</td>\n",
       "      <td>22</td>\n",
       "      <td>3</td>\n",
       "      <td>Städtisch (1)</td>\n",
       "      <td>2</td>\n",
       "      <td>5</td>\n",
       "      <td>57</td>\n",
       "      <td>...</td>\n",
       "      <td>D</td>\n",
       "      <td>-99.0</td>\n",
       "      <td>-99.0</td>\n",
       "      <td>-97.0</td>\n",
       "      <td>1.599024</td>\n",
       "      <td>Städtische Gemeinde einer grossen Agglomeratio...</td>\n",
       "      <td>200.4</td>\n",
       "      <td>NaN</td>\n",
       "      <td>320.444438</td>\n",
       "      <td>MULTILINESTRING Z ((2532653.357 1155702.624 41...</td>\n",
       "    </tr>\n",
       "    <tr>\n",
       "      <th>4</th>\n",
       "      <td>110001</td>\n",
       "      <td>5624</td>\n",
       "      <td>1030</td>\n",
       "      <td>Bussigny</td>\n",
       "      <td>22</td>\n",
       "      <td>3</td>\n",
       "      <td>Städtisch (1)</td>\n",
       "      <td>2</td>\n",
       "      <td>5</td>\n",
       "      <td>57</td>\n",
       "      <td>...</td>\n",
       "      <td>D</td>\n",
       "      <td>-99.0</td>\n",
       "      <td>-99.0</td>\n",
       "      <td>-97.0</td>\n",
       "      <td>2.445678</td>\n",
       "      <td>Städtische Gemeinde einer grossen Agglomeratio...</td>\n",
       "      <td>200.4</td>\n",
       "      <td>NaN</td>\n",
       "      <td>490.113940</td>\n",
       "      <td>LINESTRING Z (2532957.334 1156871.023 475.614,...</td>\n",
       "    </tr>\n",
       "  </tbody>\n",
       "</table>\n",
       "<p>5 rows × 41 columns</p>\n",
       "</div>"
      ],
      "text/plain": [
       "     HHNR  HH_BFS_NR  HH_PLZ    HH_ORT  HH_KANTON  HH_OEV_GUETEKLASSE  \\\n",
       "0  110001       5624    1030  Bussigny         22                   3   \n",
       "1  110001       5624    1030  Bussigny         22                   3   \n",
       "2  110001       5624    1030  Bussigny         22                   3   \n",
       "3  110001       5624    1030  Bussigny         22                   3   \n",
       "4  110001       5624    1030  Bussigny         22                   3   \n",
       "\n",
       "   HH_STADT_LAND  HH_HAUSHALTSGROESSE  HH_HAUSHALTSEINKOMMEN  ZP_ALTER  ...  \\\n",
       "0  Städtisch (1)                    2                      5        57  ...   \n",
       "1  Städtisch (1)                    2                      5        57  ...   \n",
       "2  Städtisch (1)                    2                      5        57  ...   \n",
       "3  Städtisch (1)                    2                      5        57  ...   \n",
       "4  Städtisch (1)                    2                      5        57  ...   \n",
       "\n",
       "   FAHRZEUG_ENERGIEEFFIZIENZKLASSE  FAHRZEUG_VERBRAUCH  EL_Verbrauch  \\\n",
       "0                                D               -99.0         -99.0   \n",
       "1                                D               -99.0         -99.0   \n",
       "2                                D               -99.0         -99.0   \n",
       "3                                D               -99.0         -99.0   \n",
       "4                                D               -99.0         -99.0   \n",
       "\n",
       "   FAHRZEUG_JAHR_ERSTE_INVERKEHRSSETZUNG  ABSCHNITTLÄNGE_IN_KM  \\\n",
       "0                                  -97.0              0.414223   \n",
       "1                                  -97.0              0.307909   \n",
       "2                                  -97.0              0.586282   \n",
       "3                                  -97.0              1.599024   \n",
       "4                                  -97.0              2.445678   \n",
       "\n",
       "                                  HH_RAUMTYPOLOGIE_9 CO2E_KG_KM_AUTO  \\\n",
       "0  Städtische Gemeinde einer grossen Agglomeratio...           200.4   \n",
       "1  Städtische Gemeinde einer grossen Agglomeratio...           200.4   \n",
       "2  Städtische Gemeinde einer grossen Agglomeratio...           200.4   \n",
       "3  Städtische Gemeinde einer grossen Agglomeratio...           200.4   \n",
       "4  Städtische Gemeinde einer grossen Agglomeratio...           200.4   \n",
       "\n",
       "  CO2E_KG_KM_OTHER  CO2E_TOTAL  \\\n",
       "0              NaN   83.010354   \n",
       "1              NaN   61.705018   \n",
       "2              NaN  117.490869   \n",
       "3              NaN  320.444438   \n",
       "4              NaN  490.113940   \n",
       "\n",
       "                                            geometry  \n",
       "0  LINESTRING Z (2532653.357 1155702.624 420.558,...  \n",
       "1  LINESTRING Z (2532933.573 1155665.561 430.418,...  \n",
       "2  LINESTRING Z (2533071.108 1155894.339 430.657,...  \n",
       "3  MULTILINESTRING Z ((2532653.357 1155702.624 41...  \n",
       "4  LINESTRING Z (2532957.334 1156871.023 475.614,...  \n",
       "\n",
       "[5 rows x 41 columns]"
      ]
     },
     "execution_count": 3,
     "metadata": {},
     "output_type": "execute_result"
    }
   ],
   "source": [
    "# Laden der Datei wege.gpkg\n",
    "wege = gpd.read_file('wege.gpkg')\n",
    "\n",
    "# Anzeigen der ersten Zeilen der Datei\n",
    "wege.head()"
   ]
  },
  {
   "cell_type": "code",
   "execution_count": 4,
   "metadata": {
    "vscode": {
     "languageId": "markdown"
    }
   },
   "outputs": [
    {
     "name": "stdout",
     "output_type": "stream",
     "text": [
      "<class 'geopandas.geodataframe.GeoDataFrame'>\n",
      "RangeIndex: 552622 entries, 0 to 552621\n",
      "Data columns (total 41 columns):\n",
      " #   Column                                 Non-Null Count   Dtype   \n",
      "---  ------                                 --------------   -----   \n",
      " 0   HHNR                                   552622 non-null  int64   \n",
      " 1   HH_BFS_NR                              552622 non-null  int64   \n",
      " 2   HH_PLZ                                 552622 non-null  int64   \n",
      " 3   HH_ORT                                 552622 non-null  object  \n",
      " 4   HH_KANTON                              552622 non-null  int64   \n",
      " 5   HH_OEV_GUETEKLASSE                     552622 non-null  int64   \n",
      " 6   HH_STADT_LAND                          552622 non-null  object  \n",
      " 7   HH_HAUSHALTSGROESSE                    552622 non-null  int64   \n",
      " 8   HH_HAUSHALTSEINKOMMEN                  552622 non-null  int64   \n",
      " 9   ZP_ALTER                               552622 non-null  int64   \n",
      " 10  ZP_GESL                                552622 non-null  int64   \n",
      " 11  ZP_HOECHSTE_AUSBILDUNG                 552622 non-null  int64   \n",
      " 12  ZP_ZIVILSTAND                          552622 non-null  int64   \n",
      " 13  ZP_HOECHSTE_AUSBILDUNGSSTUFE           552622 non-null  int64   \n",
      " 14  ET_ETNR                                552622 non-null  int64   \n",
      " 15  ET_WEGNR                               552622 non-null  int64   \n",
      " 16  ET_VERKEHRSMITTEL                      552622 non-null  object  \n",
      " 17  GIS_E_ID                               552622 non-null  object  \n",
      " 18  WEGABSCHNITT_BFS_NR                    552622 non-null  int64   \n",
      " 19  WEGABSCHNITT_NAME                      552622 non-null  object  \n",
      " 20  WEGABSCHNITT_GEMEINDEFLEACHE           552622 non-null  float64 \n",
      " 21  WEGABSCHNITT_EINWOHNERZAHL             552622 non-null  int64   \n",
      " 22  WEGABSCHNITT_GEMEINDE_NAME             552622 non-null  object  \n",
      " 23  WEGABSCHNITT_STADT_LAND_TYPOLOGIE      552622 non-null  object  \n",
      " 24  FAHRZEUGE_FAHRZEUGART                  381018 non-null  object  \n",
      " 25  FAHRZEUG_TREIBSTOFF                    381018 non-null  object  \n",
      " 26  FAHRZEUG_JAEHRLICHE_FAHRLEISTUNG       381018 non-null  float64 \n",
      " 27  FAHRZEUG_KILOMETERSTAND                381018 non-null  float64 \n",
      " 28  FAHRZEUG_GEWICHT                       381018 non-null  float64 \n",
      " 29  FAHRZEUG_ANTRIEB                       381018 non-null  float64 \n",
      " 30  FAHRZEUG_CO2                           381018 non-null  float64 \n",
      " 31  FAHRZEUG_ENERGIEEFFIZIENZKLASSE        381018 non-null  object  \n",
      " 32  FAHRZEUG_VERBRAUCH                     381018 non-null  float64 \n",
      " 33  EL_Verbrauch                           379324 non-null  float64 \n",
      " 34  FAHRZEUG_JAHR_ERSTE_INVERKEHRSSETZUNG  381018 non-null  float64 \n",
      " 35  ABSCHNITTLÄNGE_IN_KM                   552622 non-null  float64 \n",
      " 36  HH_RAUMTYPOLOGIE_9                     548503 non-null  object  \n",
      " 37  CO2E_KG_KM_AUTO                        373366 non-null  float64 \n",
      " 38  CO2E_KG_KM_OTHER                       100006 non-null  float64 \n",
      " 39  CO2E_TOTAL                             473372 non-null  float64 \n",
      " 40  geometry                               552622 non-null  geometry\n",
      "dtypes: float64(13), geometry(1), int64(16), object(11)\n",
      "memory usage: 172.9+ MB\n",
      "None\n"
     ]
    }
   ],
   "source": [
    "print(wege.info())"
   ]
  },
  {
   "cell_type": "code",
   "execution_count": 5,
   "metadata": {
    "vscode": {
     "languageId": "markdown"
    }
   },
   "outputs": [
    {
     "data": {
      "text/plain": [
       "array(['Städtisch (1)', 'Intermediär (2)', 'Ländlich (3)'], dtype=object)"
      ]
     },
     "execution_count": 5,
     "metadata": {},
     "output_type": "execute_result"
    }
   ],
   "source": [
    "# Verschiedene Werte HH_STADT_LAND anzeigen\n",
    "wege['HH_STADT_LAND'].unique()"
   ]
  },
  {
   "cell_type": "code",
   "execution_count": 6,
   "metadata": {
    "vscode": {
     "languageId": "markdown"
    }
   },
   "outputs": [],
   "source": [
    "# Umwandlung von HH_STADT_LAND\n",
    "wege['HH_STADT_LAND'] = wege['HH_STADT_LAND'].map({\n",
    "    'Städtisch (1)': 1,\n",
    "    'Intermediär (2)': 2,\n",
    "    'Ländlich (3)': 3\n",
    "})"
   ]
  },
  {
   "cell_type": "code",
   "execution_count": 7,
   "metadata": {
    "vscode": {
     "languageId": "markdown"
    }
   },
   "outputs": [
    {
     "name": "stdout",
     "output_type": "stream",
     "text": [
      "                       ZP_ALTER   ZP_GESL  HH_HAUSHALTSEINKOMMEN  CO2E_TOTAL  \\\n",
      "ZP_ALTER               1.000000 -0.002659               0.360617    0.035641   \n",
      "ZP_GESL               -0.002659  1.000000              -0.058462   -0.035561   \n",
      "HH_HAUSHALTSEINKOMMEN  0.360617 -0.058462               1.000000    0.033423   \n",
      "CO2E_TOTAL             0.035641 -0.035561               0.033423    1.000000   \n",
      "HH_STADT_LAND         -0.010418 -0.016326              -0.005035    0.083180   \n",
      "\n",
      "                       HH_STADT_LAND  \n",
      "ZP_ALTER                   -0.010418  \n",
      "ZP_GESL                    -0.016326  \n",
      "HH_HAUSHALTSEINKOMMEN      -0.005035  \n",
      "CO2E_TOTAL                  0.083180  \n",
      "HH_STADT_LAND               1.000000  \n"
     ]
    },
    {
     "data": {
      "image/png": "[encoded data removed]",
      "text/plain": [
       "<Figure size 640x480 with 2 Axes>"
      ]
     },
     "metadata": {},
     "output_type": "display_data"
    }
   ],
   "source": [
    "# Korrelation überprüfen\n",
    "correlation_matrix = wege[['ZP_ALTER', 'ZP_GESL', 'HH_HAUSHALTSEINKOMMEN', 'CO2E_TOTAL', 'HH_STADT_LAND']].corr()\n",
    "print(correlation_matrix)\n",
    "sns.heatmap(correlation_matrix, annot=True, cmap='coolwarm', center=0)\n",
    "plt.show()"
   ]
  },
  {
   "cell_type": "markdown",
   "metadata": {},
   "source": [
    "Das dargestellte DataFrame zeigt die Korrelationsmatrix zwischen den Variablen. Korrelationskoeffizienten variieren zwischen -1 (perfekte negative Korrelation) und 1 (perfekte positive Korrelation), wobei 0 keine Korrelation bedeutet.\n",
    "\n",
    "Zu beobachten ist, dass ZP_ALTER positiv korreliert mit dem Haushaltseinkommen (0.36). Das könnte darauf hinweisen , dass ältere Zielpersonen tendenziell ein höheres Einkommen haben.\n",
    "Für uns von Bedeutung ist die Korrelation zwischen CO2E_TOTAL und HH_STADT_LAND. Diese ist positiv (0.083), wenn auch schwach, was möglicherweise bedeutet, dass Menschen in unterschiedlichen Regionen (Stadt, Land oder intermediär) leicht variierende Emissionsmuster aufweisen."
   ]
  },
  {
   "cell_type": "markdown",
   "metadata": {},
   "source": [
    "## 2. Vorverarbeitung der Daten\n"
   ]
  },
  {
   "cell_type": "markdown",
   "metadata": {},
   "source": [
    "Die Verarbeitung wurde bei der Bearbeitung des Originaldatensatzes bzw. bei der Ermittlung der CO₂-Werte grösstenteils bereits abgeschlossen. Es sind lediglich minimale Anpassungen erforderlich, um kategoriale Werte in numerische Dummy-Variablen umzuwandeln. Dies betrifft ausschliesslich den Parameter HH_STADT_LAND und HH_HAUSHALTSEINKOMMEN da die Dummy-Variablen für die übrigen Parameter bereits erstellt wurden."
   ]
  },
  {
   "cell_type": "code",
   "execution_count": 8,
   "metadata": {
    "vscode": {
     "languageId": "markdown"
    }
   },
   "outputs": [],
   "source": [
    "# 2.1. Nur relevante Variablen beibehalten\n",
    "wege_bereinigt = wege[['CO2E_TOTAL', 'ZP_ALTER', 'ZP_GESL', 'HH_HAUSHALTSEINKOMMEN', 'HH_STADT_LAND', 'geometry']]\n",
    "\n",
    "# Datensatz bereinigen: Nur Zeilen mit nicht-leeren Werten in den relevanten Spalten\n",
    "wege_bereinigt = wege_bereinigt.dropna()"
   ]
  },
  {
   "cell_type": "code",
   "execution_count": 9,
   "metadata": {
    "vscode": {
     "languageId": "markdown"
    }
   },
   "outputs": [
    {
     "name": "stdout",
     "output_type": "stream",
     "text": [
      "<class 'geopandas.geodataframe.GeoDataFrame'>\n",
      "Index: 473372 entries, 0 to 552621\n",
      "Data columns (total 6 columns):\n",
      " #   Column                 Non-Null Count   Dtype   \n",
      "---  ------                 --------------   -----   \n",
      " 0   CO2E_TOTAL             473372 non-null  float64 \n",
      " 1   ZP_ALTER               473372 non-null  int64   \n",
      " 2   ZP_GESL                473372 non-null  int64   \n",
      " 3   HH_HAUSHALTSEINKOMMEN  473372 non-null  int64   \n",
      " 4   HH_STADT_LAND          473372 non-null  int64   \n",
      " 5   geometry               473372 non-null  geometry\n",
      "dtypes: float64(1), geometry(1), int64(4)\n",
      "memory usage: 25.3 MB\n"
     ]
    }
   ],
   "source": [
    "wege_bereinigt.info()"
   ]
  },
  {
   "cell_type": "code",
   "execution_count": 10,
   "metadata": {
    "vscode": {
     "languageId": "markdown"
    }
   },
   "outputs": [],
   "source": [
    "### 2.2. Transformation von Werten (Dummy Variablen)\n",
    "\n",
    "# Die Werte in ZP_GESL bedeuten: 1 = Mann und 2 = Frau\n",
    "# Männer werden weggelassen, da sie als Referenzkategorie dienen, somit wird nur die Variable ZP_GESL_2 benötigt (Frauen)\n",
    "\n",
    "wege_bereinigt = pd.get_dummies(wege_bereinigt, columns=['ZP_GESL'], drop_first=True)\n",
    "\n",
    "# In Integer umwandeln\n",
    "wege_bereinigt['ZP_GESL_2'] = wege_bereinigt['ZP_GESL_2'].astype(int)\n"
   ]
  },
  {
   "cell_type": "code",
   "execution_count": 11,
   "metadata": {
    "vscode": {
     "languageId": "markdown"
    }
   },
   "outputs": [
    {
     "data": {
      "text/html": [
       "<div>\n",
       "<style scoped>\n",
       "    .dataframe tbody tr th:only-of-type {\n",
       "        vertical-align: middle;\n",
       "    }\n",
       "\n",
       "    .dataframe tbody tr th {\n",
       "        vertical-align: top;\n",
       "    }\n",
       "\n",
       "    .dataframe thead th {\n",
       "        text-align: right;\n",
       "    }\n",
       "</style>\n",
       "<table border=\"1\" class=\"dataframe\">\n",
       "  <thead>\n",
       "    <tr style=\"text-align: right;\">\n",
       "      <th></th>\n",
       "      <th>CO2E_TOTAL</th>\n",
       "      <th>ZP_ALTER</th>\n",
       "      <th>HH_HAUSHALTSEINKOMMEN</th>\n",
       "      <th>HH_STADT_LAND</th>\n",
       "      <th>geometry</th>\n",
       "      <th>ZP_GESL_2</th>\n",
       "    </tr>\n",
       "  </thead>\n",
       "  <tbody>\n",
       "    <tr>\n",
       "      <th>0</th>\n",
       "      <td>83.010354</td>\n",
       "      <td>57</td>\n",
       "      <td>5</td>\n",
       "      <td>1</td>\n",
       "      <td>LINESTRING Z (2532653.357 1155702.624 420.558,...</td>\n",
       "      <td>0</td>\n",
       "    </tr>\n",
       "    <tr>\n",
       "      <th>1</th>\n",
       "      <td>61.705018</td>\n",
       "      <td>57</td>\n",
       "      <td>5</td>\n",
       "      <td>1</td>\n",
       "      <td>LINESTRING Z (2532933.573 1155665.561 430.418,...</td>\n",
       "      <td>0</td>\n",
       "    </tr>\n",
       "    <tr>\n",
       "      <th>2</th>\n",
       "      <td>117.490869</td>\n",
       "      <td>57</td>\n",
       "      <td>5</td>\n",
       "      <td>1</td>\n",
       "      <td>LINESTRING Z (2533071.108 1155894.339 430.657,...</td>\n",
       "      <td>0</td>\n",
       "    </tr>\n",
       "    <tr>\n",
       "      <th>3</th>\n",
       "      <td>320.444438</td>\n",
       "      <td>57</td>\n",
       "      <td>5</td>\n",
       "      <td>1</td>\n",
       "      <td>MULTILINESTRING Z ((2532653.357 1155702.624 41...</td>\n",
       "      <td>0</td>\n",
       "    </tr>\n",
       "    <tr>\n",
       "      <th>4</th>\n",
       "      <td>490.113940</td>\n",
       "      <td>57</td>\n",
       "      <td>5</td>\n",
       "      <td>1</td>\n",
       "      <td>LINESTRING Z (2532957.334 1156871.023 475.614,...</td>\n",
       "      <td>0</td>\n",
       "    </tr>\n",
       "  </tbody>\n",
       "</table>\n",
       "</div>"
      ],
      "text/plain": [
       "   CO2E_TOTAL  ZP_ALTER  HH_HAUSHALTSEINKOMMEN  HH_STADT_LAND  \\\n",
       "0   83.010354        57                      5              1   \n",
       "1   61.705018        57                      5              1   \n",
       "2  117.490869        57                      5              1   \n",
       "3  320.444438        57                      5              1   \n",
       "4  490.113940        57                      5              1   \n",
       "\n",
       "                                            geometry  ZP_GESL_2  \n",
       "0  LINESTRING Z (2532653.357 1155702.624 420.558,...          0  \n",
       "1  LINESTRING Z (2532933.573 1155665.561 430.418,...          0  \n",
       "2  LINESTRING Z (2533071.108 1155894.339 430.657,...          0  \n",
       "3  MULTILINESTRING Z ((2532653.357 1155702.624 41...          0  \n",
       "4  LINESTRING Z (2532957.334 1156871.023 475.614,...          0  "
      ]
     },
     "execution_count": 11,
     "metadata": {},
     "output_type": "execute_result"
    }
   ],
   "source": [
    "wege_bereinigt.head()"
   ]
  },
  {
   "cell_type": "code",
   "execution_count": 12,
   "metadata": {
    "vscode": {
     "languageId": "markdown"
    }
   },
   "outputs": [
    {
     "data": {
      "text/html": [
       "<div>\n",
       "<style scoped>\n",
       "    .dataframe tbody tr th:only-of-type {\n",
       "        vertical-align: middle;\n",
       "    }\n",
       "\n",
       "    .dataframe tbody tr th {\n",
       "        vertical-align: top;\n",
       "    }\n",
       "\n",
       "    .dataframe thead th {\n",
       "        text-align: right;\n",
       "    }\n",
       "</style>\n",
       "<table border=\"1\" class=\"dataframe\">\n",
       "  <thead>\n",
       "    <tr style=\"text-align: right;\">\n",
       "      <th></th>\n",
       "      <th>CO2E_TOTAL</th>\n",
       "      <th>ZP_ALTER</th>\n",
       "      <th>HH_HAUSHALTSEINKOMMEN</th>\n",
       "      <th>geometry</th>\n",
       "      <th>ZP_GESL_2</th>\n",
       "      <th>HH_STADT_LAND_2</th>\n",
       "      <th>HH_STADT_LAND_3</th>\n",
       "    </tr>\n",
       "  </thead>\n",
       "  <tbody>\n",
       "    <tr>\n",
       "      <th>0</th>\n",
       "      <td>83.010354</td>\n",
       "      <td>57</td>\n",
       "      <td>5</td>\n",
       "      <td>LINESTRING Z (2532653.357 1155702.624 420.558,...</td>\n",
       "      <td>0</td>\n",
       "      <td>False</td>\n",
       "      <td>False</td>\n",
       "    </tr>\n",
       "    <tr>\n",
       "      <th>1</th>\n",
       "      <td>61.705018</td>\n",
       "      <td>57</td>\n",
       "      <td>5</td>\n",
       "      <td>LINESTRING Z (2532933.573 1155665.561 430.418,...</td>\n",
       "      <td>0</td>\n",
       "      <td>False</td>\n",
       "      <td>False</td>\n",
       "    </tr>\n",
       "    <tr>\n",
       "      <th>2</th>\n",
       "      <td>117.490869</td>\n",
       "      <td>57</td>\n",
       "      <td>5</td>\n",
       "      <td>LINESTRING Z (2533071.108 1155894.339 430.657,...</td>\n",
       "      <td>0</td>\n",
       "      <td>False</td>\n",
       "      <td>False</td>\n",
       "    </tr>\n",
       "    <tr>\n",
       "      <th>3</th>\n",
       "      <td>320.444438</td>\n",
       "      <td>57</td>\n",
       "      <td>5</td>\n",
       "      <td>MULTILINESTRING Z ((2532653.357 1155702.624 41...</td>\n",
       "      <td>0</td>\n",
       "      <td>False</td>\n",
       "      <td>False</td>\n",
       "    </tr>\n",
       "    <tr>\n",
       "      <th>4</th>\n",
       "      <td>490.113940</td>\n",
       "      <td>57</td>\n",
       "      <td>5</td>\n",
       "      <td>LINESTRING Z (2532957.334 1156871.023 475.614,...</td>\n",
       "      <td>0</td>\n",
       "      <td>False</td>\n",
       "      <td>False</td>\n",
       "    </tr>\n",
       "  </tbody>\n",
       "</table>\n",
       "</div>"
      ],
      "text/plain": [
       "   CO2E_TOTAL  ZP_ALTER  HH_HAUSHALTSEINKOMMEN  \\\n",
       "0   83.010354        57                      5   \n",
       "1   61.705018        57                      5   \n",
       "2  117.490869        57                      5   \n",
       "3  320.444438        57                      5   \n",
       "4  490.113940        57                      5   \n",
       "\n",
       "                                            geometry  ZP_GESL_2  \\\n",
       "0  LINESTRING Z (2532653.357 1155702.624 420.558,...          0   \n",
       "1  LINESTRING Z (2532933.573 1155665.561 430.418,...          0   \n",
       "2  LINESTRING Z (2533071.108 1155894.339 430.657,...          0   \n",
       "3  MULTILINESTRING Z ((2532653.357 1155702.624 41...          0   \n",
       "4  LINESTRING Z (2532957.334 1156871.023 475.614,...          0   \n",
       "\n",
       "   HH_STADT_LAND_2  HH_STADT_LAND_3  \n",
       "0            False            False  \n",
       "1            False            False  \n",
       "2            False            False  \n",
       "3            False            False  \n",
       "4            False            False  "
      ]
     },
     "execution_count": 12,
     "metadata": {},
     "output_type": "execute_result"
    }
   ],
   "source": [
    "# HH_STADT_LAND Stadt(1) wird weg gelassen, da sie die Referenzklasse ist\n",
    "wege_bereinigt = pd.get_dummies(wege_bereinigt, columns=['HH_STADT_LAND'], drop_first=True)\n",
    "wege_bereinigt.head()"
   ]
  },
  {
   "cell_type": "code",
   "execution_count": 15,
   "metadata": {
    "vscode": {
     "languageId": "markdown"
    }
   },
   "outputs": [],
   "source": [
    "# Dummy-Variablen in numerische Werte umwandeln\n",
    "wege_bereinigt['HH_STADT_LAND_2'] = wege_bereinigt['HH_STADT_LAND_2'].astype(int)\n",
    "wege_bereinigt['HH_STADT_LAND_3'] = wege_bereinigt['HH_STADT_LAND_3'].astype(int)"
   ]
  },
  {
   "cell_type": "code",
   "execution_count": 16,
   "metadata": {
    "vscode": {
     "languageId": "markdown"
    }
   },
   "outputs": [
    {
     "name": "stdout",
     "output_type": "stream",
     "text": [
      "<class 'geopandas.geodataframe.GeoDataFrame'>\n",
      "Index: 473372 entries, 0 to 552621\n",
      "Data columns (total 7 columns):\n",
      " #   Column                 Non-Null Count   Dtype   \n",
      "---  ------                 --------------   -----   \n",
      " 0   CO2E_TOTAL             473372 non-null  float64 \n",
      " 1   ZP_ALTER               473372 non-null  int64   \n",
      " 2   HH_HAUSHALTSEINKOMMEN  473372 non-null  int64   \n",
      " 3   geometry               473372 non-null  geometry\n",
      " 4   ZP_GESL_2              473372 non-null  int32   \n",
      " 5   HH_STADT_LAND_2        473372 non-null  int32   \n",
      " 6   HH_STADT_LAND_3        473372 non-null  int32   \n",
      "dtypes: float64(1), geometry(1), int32(3), int64(2)\n",
      "memory usage: 23.5 MB\n"
     ]
    }
   ],
   "source": [
    "wege_bereinigt.info()"
   ]
  },
  {
   "cell_type": "code",
   "execution_count": 17,
   "metadata": {
    "vscode": {
     "languageId": "markdown"
    }
   },
   "outputs": [
    {
     "data": {
      "text/html": [
       "<div>\n",
       "<style scoped>\n",
       "    .dataframe tbody tr th:only-of-type {\n",
       "        vertical-align: middle;\n",
       "    }\n",
       "\n",
       "    .dataframe tbody tr th {\n",
       "        vertical-align: top;\n",
       "    }\n",
       "\n",
       "    .dataframe thead th {\n",
       "        text-align: right;\n",
       "    }\n",
       "</style>\n",
       "<table border=\"1\" class=\"dataframe\">\n",
       "  <thead>\n",
       "    <tr style=\"text-align: right;\">\n",
       "      <th></th>\n",
       "      <th>CO2E_TOTAL</th>\n",
       "      <th>ZP_ALTER</th>\n",
       "      <th>geometry</th>\n",
       "      <th>ZP_GESL_2</th>\n",
       "      <th>HH_STADT_LAND_2</th>\n",
       "      <th>HH_STADT_LAND_3</th>\n",
       "      <th>HH_HAUSHALTSEINKOMMEN_2</th>\n",
       "      <th>HH_HAUSHALTSEINKOMMEN_3</th>\n",
       "      <th>HH_HAUSHALTSEINKOMMEN_4</th>\n",
       "      <th>HH_HAUSHALTSEINKOMMEN_5</th>\n",
       "      <th>HH_HAUSHALTSEINKOMMEN_6</th>\n",
       "      <th>HH_HAUSHALTSEINKOMMEN_7</th>\n",
       "      <th>HH_HAUSHALTSEINKOMMEN_8</th>\n",
       "      <th>HH_HAUSHALTSEINKOMMEN_9</th>\n",
       "    </tr>\n",
       "  </thead>\n",
       "  <tbody>\n",
       "    <tr>\n",
       "      <th>0</th>\n",
       "      <td>83.010354</td>\n",
       "      <td>57</td>\n",
       "      <td>LINESTRING Z (2532653.357 1155702.624 420.558,...</td>\n",
       "      <td>0</td>\n",
       "      <td>0</td>\n",
       "      <td>0</td>\n",
       "      <td>False</td>\n",
       "      <td>False</td>\n",
       "      <td>False</td>\n",
       "      <td>True</td>\n",
       "      <td>False</td>\n",
       "      <td>False</td>\n",
       "      <td>False</td>\n",
       "      <td>False</td>\n",
       "    </tr>\n",
       "    <tr>\n",
       "      <th>1</th>\n",
       "      <td>61.705018</td>\n",
       "      <td>57</td>\n",
       "      <td>LINESTRING Z (2532933.573 1155665.561 430.418,...</td>\n",
       "      <td>0</td>\n",
       "      <td>0</td>\n",
       "      <td>0</td>\n",
       "      <td>False</td>\n",
       "      <td>False</td>\n",
       "      <td>False</td>\n",
       "      <td>True</td>\n",
       "      <td>False</td>\n",
       "      <td>False</td>\n",
       "      <td>False</td>\n",
       "      <td>False</td>\n",
       "    </tr>\n",
       "    <tr>\n",
       "      <th>2</th>\n",
       "      <td>117.490869</td>\n",
       "      <td>57</td>\n",
       "      <td>LINESTRING Z (2533071.108 1155894.339 430.657,...</td>\n",
       "      <td>0</td>\n",
       "      <td>0</td>\n",
       "      <td>0</td>\n",
       "      <td>False</td>\n",
       "      <td>False</td>\n",
       "      <td>False</td>\n",
       "      <td>True</td>\n",
       "      <td>False</td>\n",
       "      <td>False</td>\n",
       "      <td>False</td>\n",
       "      <td>False</td>\n",
       "    </tr>\n",
       "    <tr>\n",
       "      <th>3</th>\n",
       "      <td>320.444438</td>\n",
       "      <td>57</td>\n",
       "      <td>MULTILINESTRING Z ((2532653.357 1155702.624 41...</td>\n",
       "      <td>0</td>\n",
       "      <td>0</td>\n",
       "      <td>0</td>\n",
       "      <td>False</td>\n",
       "      <td>False</td>\n",
       "      <td>False</td>\n",
       "      <td>True</td>\n",
       "      <td>False</td>\n",
       "      <td>False</td>\n",
       "      <td>False</td>\n",
       "      <td>False</td>\n",
       "    </tr>\n",
       "    <tr>\n",
       "      <th>4</th>\n",
       "      <td>490.113940</td>\n",
       "      <td>57</td>\n",
       "      <td>LINESTRING Z (2532957.334 1156871.023 475.614,...</td>\n",
       "      <td>0</td>\n",
       "      <td>0</td>\n",
       "      <td>0</td>\n",
       "      <td>False</td>\n",
       "      <td>False</td>\n",
       "      <td>False</td>\n",
       "      <td>True</td>\n",
       "      <td>False</td>\n",
       "      <td>False</td>\n",
       "      <td>False</td>\n",
       "      <td>False</td>\n",
       "    </tr>\n",
       "  </tbody>\n",
       "</table>\n",
       "</div>"
      ],
      "text/plain": [
       "   CO2E_TOTAL  ZP_ALTER                                           geometry  \\\n",
       "0   83.010354        57  LINESTRING Z (2532653.357 1155702.624 420.558,...   \n",
       "1   61.705018        57  LINESTRING Z (2532933.573 1155665.561 430.418,...   \n",
       "2  117.490869        57  LINESTRING Z (2533071.108 1155894.339 430.657,...   \n",
       "3  320.444438        57  MULTILINESTRING Z ((2532653.357 1155702.624 41...   \n",
       "4  490.113940        57  LINESTRING Z (2532957.334 1156871.023 475.614,...   \n",
       "\n",
       "   ZP_GESL_2  HH_STADT_LAND_2  HH_STADT_LAND_3  HH_HAUSHALTSEINKOMMEN_2  \\\n",
       "0          0                0                0                    False   \n",
       "1          0                0                0                    False   \n",
       "2          0                0                0                    False   \n",
       "3          0                0                0                    False   \n",
       "4          0                0                0                    False   \n",
       "\n",
       "   HH_HAUSHALTSEINKOMMEN_3  HH_HAUSHALTSEINKOMMEN_4  HH_HAUSHALTSEINKOMMEN_5  \\\n",
       "0                    False                    False                     True   \n",
       "1                    False                    False                     True   \n",
       "2                    False                    False                     True   \n",
       "3                    False                    False                     True   \n",
       "4                    False                    False                     True   \n",
       "\n",
       "   HH_HAUSHALTSEINKOMMEN_6  HH_HAUSHALTSEINKOMMEN_7  HH_HAUSHALTSEINKOMMEN_8  \\\n",
       "0                    False                    False                    False   \n",
       "1                    False                    False                    False   \n",
       "2                    False                    False                    False   \n",
       "3                    False                    False                    False   \n",
       "4                    False                    False                    False   \n",
       "\n",
       "   HH_HAUSHALTSEINKOMMEN_9  \n",
       "0                    False  \n",
       "1                    False  \n",
       "2                    False  \n",
       "3                    False  \n",
       "4                    False  "
      ]
     },
     "execution_count": 17,
     "metadata": {},
     "output_type": "execute_result"
    }
   ],
   "source": [
    "# Umwandlung von HH_HAUSHALTSEINKOMMEN\n",
    "\n",
    "# Bedeutung der Kategorien:\n",
    "# - -99\tNicht gestellt, da Zielperson jünger als 18 ist\n",
    "# - -98\tkeine Antwort\n",
    "# - -97\tweiss nicht\n",
    "# Es macht keinen Sinn, dass eine dieser Kategorien die Referenzkategorie ist. Deshalb werden die Daten gelöscht. \n",
    "wege_bereinigt = wege_bereinigt[~wege_bereinigt['HH_HAUSHALTSEINKOMMEN'].isin([-99, -98, -97])]\n",
    "\n",
    "# Dummy-Variablen erstellen und die Referenzkategorie auf HH_HAUSHALTSEINKOMMEN_1 setzen\n",
    "wege_bereinigt = pd.get_dummies(wege_bereinigt, columns=['HH_HAUSHALTSEINKOMMEN'], drop_first=True)\n",
    "\n",
    "wege_bereinigt.head()"
   ]
  },
  {
   "cell_type": "code",
   "execution_count": 18,
   "metadata": {
    "vscode": {
     "languageId": "markdown"
    }
   },
   "outputs": [
    {
     "name": "stdout",
     "output_type": "stream",
     "text": [
      "<class 'geopandas.geodataframe.GeoDataFrame'>\n",
      "Index: 357684 entries, 0 to 552621\n",
      "Data columns (total 14 columns):\n",
      " #   Column                   Non-Null Count   Dtype   \n",
      "---  ------                   --------------   -----   \n",
      " 0   CO2E_TOTAL               357684 non-null  float64 \n",
      " 1   ZP_ALTER                 357684 non-null  int64   \n",
      " 2   geometry                 357684 non-null  geometry\n",
      " 3   ZP_GESL_2                357684 non-null  int32   \n",
      " 4   HH_STADT_LAND_2          357684 non-null  int32   \n",
      " 5   HH_STADT_LAND_3          357684 non-null  int32   \n",
      " 6   HH_HAUSHALTSEINKOMMEN_2  357684 non-null  bool    \n",
      " 7   HH_HAUSHALTSEINKOMMEN_3  357684 non-null  bool    \n",
      " 8   HH_HAUSHALTSEINKOMMEN_4  357684 non-null  bool    \n",
      " 9   HH_HAUSHALTSEINKOMMEN_5  357684 non-null  bool    \n",
      " 10  HH_HAUSHALTSEINKOMMEN_6  357684 non-null  bool    \n",
      " 11  HH_HAUSHALTSEINKOMMEN_7  357684 non-null  bool    \n",
      " 12  HH_HAUSHALTSEINKOMMEN_8  357684 non-null  bool    \n",
      " 13  HH_HAUSHALTSEINKOMMEN_9  357684 non-null  bool    \n",
      "dtypes: bool(8), float64(1), geometry(1), int32(3), int64(1)\n",
      "memory usage: 17.7 MB\n",
      "None\n"
     ]
    }
   ],
   "source": [
    "print(wege_bereinigt.info())"
   ]
  },
  {
   "cell_type": "code",
   "execution_count": 19,
   "metadata": {
    "vscode": {
     "languageId": "markdown"
    }
   },
   "outputs": [
    {
     "data": {
      "text/html": [
       "<div>\n",
       "<style scoped>\n",
       "    .dataframe tbody tr th:only-of-type {\n",
       "        vertical-align: middle;\n",
       "    }\n",
       "\n",
       "    .dataframe tbody tr th {\n",
       "        vertical-align: top;\n",
       "    }\n",
       "\n",
       "    .dataframe thead th {\n",
       "        text-align: right;\n",
       "    }\n",
       "</style>\n",
       "<table border=\"1\" class=\"dataframe\">\n",
       "  <thead>\n",
       "    <tr style=\"text-align: right;\">\n",
       "      <th></th>\n",
       "      <th>CO2E_TOTAL</th>\n",
       "      <th>ZP_ALTER</th>\n",
       "      <th>geometry</th>\n",
       "      <th>ZP_GESL_2</th>\n",
       "      <th>HH_STADT_LAND_2</th>\n",
       "      <th>HH_STADT_LAND_3</th>\n",
       "      <th>HH_HAUSHALTSEINKOMMEN_2</th>\n",
       "      <th>HH_HAUSHALTSEINKOMMEN_3</th>\n",
       "      <th>HH_HAUSHALTSEINKOMMEN_4</th>\n",
       "      <th>HH_HAUSHALTSEINKOMMEN_5</th>\n",
       "      <th>HH_HAUSHALTSEINKOMMEN_6</th>\n",
       "      <th>HH_HAUSHALTSEINKOMMEN_7</th>\n",
       "      <th>HH_HAUSHALTSEINKOMMEN_8</th>\n",
       "      <th>HH_HAUSHALTSEINKOMMEN_9</th>\n",
       "    </tr>\n",
       "  </thead>\n",
       "  <tbody>\n",
       "    <tr>\n",
       "      <th>0</th>\n",
       "      <td>83.010354</td>\n",
       "      <td>57</td>\n",
       "      <td>LINESTRING Z (2532653.357 1155702.624 420.558,...</td>\n",
       "      <td>0</td>\n",
       "      <td>0</td>\n",
       "      <td>0</td>\n",
       "      <td>0</td>\n",
       "      <td>0</td>\n",
       "      <td>0</td>\n",
       "      <td>1</td>\n",
       "      <td>0</td>\n",
       "      <td>0</td>\n",
       "      <td>0</td>\n",
       "      <td>0</td>\n",
       "    </tr>\n",
       "    <tr>\n",
       "      <th>1</th>\n",
       "      <td>61.705018</td>\n",
       "      <td>57</td>\n",
       "      <td>LINESTRING Z (2532933.573 1155665.561 430.418,...</td>\n",
       "      <td>0</td>\n",
       "      <td>0</td>\n",
       "      <td>0</td>\n",
       "      <td>0</td>\n",
       "      <td>0</td>\n",
       "      <td>0</td>\n",
       "      <td>1</td>\n",
       "      <td>0</td>\n",
       "      <td>0</td>\n",
       "      <td>0</td>\n",
       "      <td>0</td>\n",
       "    </tr>\n",
       "    <tr>\n",
       "      <th>2</th>\n",
       "      <td>117.490869</td>\n",
       "      <td>57</td>\n",
       "      <td>LINESTRING Z (2533071.108 1155894.339 430.657,...</td>\n",
       "      <td>0</td>\n",
       "      <td>0</td>\n",
       "      <td>0</td>\n",
       "      <td>0</td>\n",
       "      <td>0</td>\n",
       "      <td>0</td>\n",
       "      <td>1</td>\n",
       "      <td>0</td>\n",
       "      <td>0</td>\n",
       "      <td>0</td>\n",
       "      <td>0</td>\n",
       "    </tr>\n",
       "    <tr>\n",
       "      <th>3</th>\n",
       "      <td>320.444438</td>\n",
       "      <td>57</td>\n",
       "      <td>MULTILINESTRING Z ((2532653.357 1155702.624 41...</td>\n",
       "      <td>0</td>\n",
       "      <td>0</td>\n",
       "      <td>0</td>\n",
       "      <td>0</td>\n",
       "      <td>0</td>\n",
       "      <td>0</td>\n",
       "      <td>1</td>\n",
       "      <td>0</td>\n",
       "      <td>0</td>\n",
       "      <td>0</td>\n",
       "      <td>0</td>\n",
       "    </tr>\n",
       "    <tr>\n",
       "      <th>4</th>\n",
       "      <td>490.113940</td>\n",
       "      <td>57</td>\n",
       "      <td>LINESTRING Z (2532957.334 1156871.023 475.614,...</td>\n",
       "      <td>0</td>\n",
       "      <td>0</td>\n",
       "      <td>0</td>\n",
       "      <td>0</td>\n",
       "      <td>0</td>\n",
       "      <td>0</td>\n",
       "      <td>1</td>\n",
       "      <td>0</td>\n",
       "      <td>0</td>\n",
       "      <td>0</td>\n",
       "      <td>0</td>\n",
       "    </tr>\n",
       "  </tbody>\n",
       "</table>\n",
       "</div>"
      ],
      "text/plain": [
       "   CO2E_TOTAL  ZP_ALTER                                           geometry  \\\n",
       "0   83.010354        57  LINESTRING Z (2532653.357 1155702.624 420.558,...   \n",
       "1   61.705018        57  LINESTRING Z (2532933.573 1155665.561 430.418,...   \n",
       "2  117.490869        57  LINESTRING Z (2533071.108 1155894.339 430.657,...   \n",
       "3  320.444438        57  MULTILINESTRING Z ((2532653.357 1155702.624 41...   \n",
       "4  490.113940        57  LINESTRING Z (2532957.334 1156871.023 475.614,...   \n",
       "\n",
       "   ZP_GESL_2  HH_STADT_LAND_2  HH_STADT_LAND_3  HH_HAUSHALTSEINKOMMEN_2  \\\n",
       "0          0                0                0                        0   \n",
       "1          0                0                0                        0   \n",
       "2          0                0                0                        0   \n",
       "3          0                0                0                        0   \n",
       "4          0                0                0                        0   \n",
       "\n",
       "   HH_HAUSHALTSEINKOMMEN_3  HH_HAUSHALTSEINKOMMEN_4  HH_HAUSHALTSEINKOMMEN_5  \\\n",
       "0                        0                        0                        1   \n",
       "1                        0                        0                        1   \n",
       "2                        0                        0                        1   \n",
       "3                        0                        0                        1   \n",
       "4                        0                        0                        1   \n",
       "\n",
       "   HH_HAUSHALTSEINKOMMEN_6  HH_HAUSHALTSEINKOMMEN_7  HH_HAUSHALTSEINKOMMEN_8  \\\n",
       "0                        0                        0                        0   \n",
       "1                        0                        0                        0   \n",
       "2                        0                        0                        0   \n",
       "3                        0                        0                        0   \n",
       "4                        0                        0                        0   \n",
       "\n",
       "   HH_HAUSHALTSEINKOMMEN_9  \n",
       "0                        0  \n",
       "1                        0  \n",
       "2                        0  \n",
       "3                        0  \n",
       "4                        0  "
      ]
     },
     "execution_count": 19,
     "metadata": {},
     "output_type": "execute_result"
    }
   ],
   "source": [
    "# Umwandlung der Haushaltseinkommen in kategorische Variablen\n",
    "einkommen_kategorien = ['HH_HAUSHALTSEINKOMMEN_2', 'HH_HAUSHALTSEINKOMMEN_3', 'HH_HAUSHALTSEINKOMMEN_4',\n",
    "    'HH_HAUSHALTSEINKOMMEN_5', 'HH_HAUSHALTSEINKOMMEN_6', 'HH_HAUSHALTSEINKOMMEN_7',\n",
    "    'HH_HAUSHALTSEINKOMMEN_8', 'HH_HAUSHALTSEINKOMMEN_9'\n",
    "]\n",
    "\n",
    "for kategorie in einkommen_kategorien:\n",
    "    wege_bereinigt[kategorie] = wege_bereinigt[kategorie].astype(int)\n",
    "\n",
    "wege_bereinigt.head()"
   ]
  },
  {
   "cell_type": "markdown",
   "metadata": {},
   "source": [
    "## 3. Modell Trainieren und Analysieren"
   ]
  },
  {
   "cell_type": "code",
   "execution_count": 20,
   "metadata": {
    "vscode": {
     "languageId": "markdown"
    }
   },
   "outputs": [],
   "source": [
    "## 3.1. Vorbereiten der Daten\n",
    "\n",
    "## Aufteilen in Trainings- und Testdaten (80% Training, 20% Test)\n",
    "from sklearn.model_selection import train_test_split\n",
    "train, test = train_test_split(wege_bereinigt, test_size=0.2, random_state=42)"
   ]
  },
  {
   "cell_type": "code",
   "execution_count": 21,
   "metadata": {
    "vscode": {
     "languageId": "markdown"
    }
   },
   "outputs": [
    {
     "name": "stdout",
     "output_type": "stream",
     "text": [
      "Trainingsdaten: (286147, 14)\n",
      "Testdaten: (71537, 14)\n"
     ]
    }
   ],
   "source": [
    "## Ergebnisse anzeigen\n",
    "print(f\"Trainingsdaten: {train.shape}\")\n",
    "print(f\"Testdaten: {test.shape}\")"
   ]
  },
  {
   "cell_type": "code",
   "execution_count": 22,
   "metadata": {
    "vscode": {
     "languageId": "markdown"
    }
   },
   "outputs": [],
   "source": [
    "## 3.2. Lineare Regression (Geschlecht, Alter)\n",
    "\n",
    "X = train[['ZP_ALTER', 'ZP_GESL_2']]\n",
    "X = sm.add_constant(X)\n",
    "y = train['CO2E_TOTAL']\n"
   ]
  },
  {
   "cell_type": "code",
   "execution_count": 23,
   "metadata": {
    "vscode": {
     "languageId": "markdown"
    }
   },
   "outputs": [],
   "source": [
    "# OLS Modell fitten\n",
    "model = sm.OLS(y, X).fit()"
   ]
  },
  {
   "cell_type": "code",
   "execution_count": 25,
   "metadata": {
    "vscode": {
     "languageId": "markdown"
    }
   },
   "outputs": [
    {
     "name": "stdout",
     "output_type": "stream",
     "text": [
      "                            OLS Regression Results                            \n",
      "==============================================================================\n",
      "Dep. Variable:             CO2E_TOTAL   R-squared:                       0.001\n",
      "Model:                            OLS   Adj. R-squared:                  0.001\n",
      "Method:                 Least Squares   F-statistic:                     196.6\n",
      "Date:                Mon, 09 Dec 2024   Prob (F-statistic):           4.70e-86\n",
      "Time:                        16:18:13   Log-Likelihood:            -2.1372e+06\n",
      "No. Observations:              286147   AIC:                         4.274e+06\n",
      "Df Residuals:                  286144   BIC:                         4.274e+06\n",
      "Df Model:                           2                                         \n",
      "Covariance Type:            nonrobust                                         \n",
      "==============================================================================\n",
      "                 coef    std err          t      P>|t|      [0.025      0.975]\n",
      "------------------------------------------------------------------------------\n",
      "const        421.3853      2.659    158.448      0.000     416.173     426.598\n",
      "ZP_ALTER       0.3803      0.050      7.638      0.000       0.283       0.478\n",
      "ZP_GESL_2    -28.9429      1.601    -18.080      0.000     -32.080     -25.805\n",
      "==============================================================================\n",
      "Omnibus:                   153443.486   Durbin-Watson:                   1.997\n",
      "Prob(Omnibus):                  0.000   Jarque-Bera (JB):          1679567.816\n",
      "Skew:                           2.367   Prob(JB):                         0.00\n",
      "Kurtosis:                      13.884   Cond. No.                         176.\n",
      "==============================================================================\n",
      "\n",
      "Notes:\n",
      "[1] Standard Errors assume that the covariance matrix of the errors is correctly specified.\n"
     ]
    }
   ],
   "source": [
    "# Modell summary ausgeben\n",
    "print(model.summary())"
   ]
  },
  {
   "cell_type": "markdown",
   "metadata": {},
   "source": [
    "Interpretation:\n",
    "\n",
    "Wenn alle Prädiktoren (Alter und Geschlecht) gleich 0 sind, beträgt der durchschnittliche CO₂-Ausstoss etwa 421.38. Das ist der Basiswert des Modells.\n",
    "Pro Jahr zusätzlichem Alter steigt der CO₂-Ausstoss im Durchschnitt um 0,38 kg.\n",
    "Frauen haben im Vergleich zu Männern durchschnittlich 28,94 kg weniger CO₂-Ausstoss."
   ]
  },
  {
   "cell_type": "code",
   "execution_count": 26,
   "metadata": {
    "vscode": {
     "languageId": "markdown"
    }
   },
   "outputs": [],
   "source": [
    "## 3.3. Lineare Regression (Geschlecht, Alter, Raumstruktur)\n",
    "X2 = train[['ZP_ALTER', 'ZP_GESL_2', 'HH_STADT_LAND_2', 'HH_STADT_LAND_3']]\n",
    "X2 = sm.add_constant(X2)\n",
    "y2 = train['CO2E_TOTAL']"
   ]
  },
  {
   "cell_type": "code",
   "execution_count": 27,
   "metadata": {
    "vscode": {
     "languageId": "markdown"
    }
   },
   "outputs": [
    {
     "name": "stdout",
     "output_type": "stream",
     "text": [
      "                            OLS Regression Results                            \n",
      "==============================================================================\n",
      "Dep. Variable:             CO2E_TOTAL   R-squared:                       0.009\n",
      "Model:                            OLS   Adj. R-squared:                  0.009\n",
      "Method:                 Least Squares   F-statistic:                     624.8\n",
      "Date:                Mon, 09 Dec 2024   Prob (F-statistic):               0.00\n",
      "Time:                        16:19:00   Log-Likelihood:            -2.1362e+06\n",
      "No. Observations:              286147   AIC:                         4.272e+06\n",
      "Df Residuals:                  286142   BIC:                         4.272e+06\n",
      "Df Model:                           4                                         \n",
      "Covariance Type:            nonrobust                                         \n",
      "===================================================================================\n",
      "                      coef    std err          t      P>|t|      [0.025      0.975]\n",
      "-----------------------------------------------------------------------------------\n",
      "const             394.7451      2.715    145.420      0.000     389.425     400.065\n",
      "ZP_ALTER            0.3701      0.050      7.460      0.000       0.273       0.467\n",
      "ZP_GESL_2         -28.2993      1.596    -17.736      0.000     -31.427     -25.172\n",
      "HH_STADT_LAND_2    59.6477      1.999     29.833      0.000      55.729      63.566\n",
      "HH_STADT_LAND_3    89.4599      2.201     40.637      0.000      85.145      93.775\n",
      "==============================================================================\n",
      "Omnibus:                   154478.750   Durbin-Watson:                   1.997\n",
      "Prob(Omnibus):                  0.000   Jarque-Bera (JB):          1714196.193\n",
      "Skew:                           2.383   Prob(JB):                         0.00\n",
      "Kurtosis:                      14.003   Cond. No.                         187.\n",
      "==============================================================================\n",
      "\n",
      "Notes:\n",
      "[1] Standard Errors assume that the covariance matrix of the errors is correctly specified.\n"
     ]
    }
   ],
   "source": [
    "# Modell fitten\n",
    "model2 = sm.OLS(y2, X2).fit()\n",
    "\n",
    "# Zusammenfassung des Modells anzeigen\n",
    "print(model2.summary())"
   ]
  },
  {
   "cell_type": "markdown",
   "metadata": {},
   "source": [
    "Interpretation:\n",
    "\n",
    "Das Modell erklärt nur 0,9 % (R2=0.009) der Varianz der Zielvariablen CO2-TOTAL, was auf eine sehr schlechte Modellgüte hinweist.\n",
    "\n",
    "Die hohe Anzahl an Beobachtungen (286.147) trägt dazu bei, dass die Koeffizienten statistisch signifikant (p-Werte = 0.000) sind, obwohl die erklärende Stärke gering ist.\n",
    "\n",
    "Die Koeffizienten geben an, wie sich der CO₂-Ausstoss ändert, wenn Haushalte in unterschiedlichen Raumstrukturen leben, bzw. im Vergleich zur Referenzkategorie HH_STADT_LAND_1 (Städtisch)\n",
    "\n",
    "HH_STADT_LAND_2 (Intermediär): + 59.64 kg Haushalte in intermediären Regionen emittieren im Durchschnitt 69,06 kg mehr CO₂ als Haushalte in städtischen Regionen.\n",
    "\n",
    "HH_STADT_LAND_3 (Ländlich): +89.45 kg Haushalte in ländlichen Regionen emittieren im Durchschnitt 69,06 kg mehr CO₂ als Haushalte in städtischen Regionen.\n",
    "\n",
    "Zwischen diesen 3 Raumtypen, werden die meisten CO₂-Emissionen in ländlichen Räumen emittiert."
   ]
  },
  {
   "cell_type": "markdown",
   "metadata": {
    "vscode": {
     "languageId": "markdown"
    }
   },
   "source": [
    "## 3.4. Residuen"
   ]
  },
  {
   "cell_type": "code",
   "execution_count": 28,
   "metadata": {
    "vscode": {
     "languageId": "markdown"
    }
   },
   "outputs": [
    {
     "data": {
      "image/png": "[encoded data removed]",
      "text/plain": [
       "<Figure size 640x480 with 1 Axes>"
      ]
     },
     "metadata": {},
     "output_type": "display_data"
    },
    {
     "data": {
      "image/png": "[encoded data removed]",
      "text/plain": [
       "<Figure size 640x480 with 1 Axes>"
      ]
     },
     "metadata": {},
     "output_type": "display_data"
    }
   ],
   "source": [
    "# Residuen berechnen\n",
    "residuals = model2.resid\n",
    "\n",
    "# Histogramm der Residuen\n",
    "sns.histplot(residuals, kde=True)\n",
    "plt.title('Histogram der Residuen')\n",
    "plt.show()\n",
    "\n",
    "# Residuenplot\n",
    "sns.scatterplot(x=model2.fittedvalues, y=residuals)\n",
    "plt.axhline(0, color='red', linestyle='--')\n",
    "plt.title('Residuenplot')\n",
    "plt.xlabel('Fitted Values')\n",
    "plt.ylabel('Residuals')\n",
    "plt.show()"
   ]
  },
  {
   "cell_type": "markdown",
   "metadata": {},
   "source": [
    "Interpretation:\n",
    "\n",
    "- Das Histogramm zeigt eine rechtsschiefe Verteilung der Residuen (ein Grossteil konzentriert sich bei niedrigen Werten, während einige grosse Werte auftreten).\n",
    "\n",
    "- Die Residuen sind nicht normalverteilt\n",
    "\n",
    "- Es gibt kein offensichtliches Muster zwischen den Residuen und den vorhergesagten Werten (fitted values), aber die Streuung nimmt für grössere Werte zu.\n",
    "\n",
    "- Residuen scheinen hauptsächlich positiv zu sein, mit wenigen negativen Ausreissern.\n",
    "\n",
    "Es gibt kein erkennbares Muster in den Fehlern des Modells, was bedeutet, dass die Vorhersagen im Durchschnitt nicht systematisch in eine Richtung falsch liegen. Allerdings streuen die Fehler bei grösseren Vorhersagewerten stärker, was darauf hindeuten könnte, dass die Genauigkeit des Modells für höhere Werte schlechter wird.\n"
   ]
  },
  {
   "cell_type": "markdown",
   "metadata": {},
   "source": [
    "## 3.5. Erweiterung (komplexeres Modell)"
   ]
  },
  {
   "cell_type": "code",
   "execution_count": 29,
   "metadata": {
    "vscode": {
     "languageId": "markdown"
    }
   },
   "outputs": [],
   "source": [
    "## 3.6. Hinzunahme Variablen (Geschlecht, Alter, Raumstruktur, Haushaltseinkommen)\n",
    "X3 = train[['ZP_ALTER', 'ZP_GESL_2', 'HH_HAUSHALTSEINKOMMEN_2', 'HH_HAUSHALTSEINKOMMEN_3', 'HH_HAUSHALTSEINKOMMEN_4', 'HH_HAUSHALTSEINKOMMEN_5', 'HH_HAUSHALTSEINKOMMEN_6', 'HH_HAUSHALTSEINKOMMEN_7',\n",
    "                    'HH_HAUSHALTSEINKOMMEN_8', 'HH_HAUSHALTSEINKOMMEN_9', 'HH_STADT_LAND_2', 'HH_STADT_LAND_3']]\n",
    "X3 = sm.add_constant(X3)\n",
    "y3 = train['CO2E_TOTAL']"
   ]
  },
  {
   "cell_type": "code",
   "execution_count": 30,
   "metadata": {
    "vscode": {
     "languageId": "markdown"
    }
   },
   "outputs": [
    {
     "name": "stdout",
     "output_type": "stream",
     "text": [
      "                            OLS Regression Results                            \n",
      "==============================================================================\n",
      "Dep. Variable:             CO2E_TOTAL   R-squared:                       0.010\n",
      "Model:                            OLS   Adj. R-squared:                  0.009\n",
      "Method:                 Least Squares   F-statistic:                     228.8\n",
      "Date:                Mon, 09 Dec 2024   Prob (F-statistic):               0.00\n",
      "Time:                        16:19:22   Log-Likelihood:            -2.1360e+06\n",
      "No. Observations:              286147   AIC:                         4.272e+06\n",
      "Df Residuals:                  286134   BIC:                         4.272e+06\n",
      "Df Model:                          12                                         \n",
      "Covariance Type:            nonrobust                                         \n",
      "===========================================================================================\n",
      "                              coef    std err          t      P>|t|      [0.025      0.975]\n",
      "-------------------------------------------------------------------------------------------\n",
      "const                     341.4422      8.639     39.524      0.000     324.510     358.374\n",
      "ZP_ALTER                    0.4296      0.052      8.336      0.000       0.329       0.531\n",
      "ZP_GESL_2                 -27.5615      1.606    -17.158      0.000     -30.710     -24.413\n",
      "HH_HAUSHALTSEINKOMMEN_2    25.7710      8.588      3.001      0.003       8.939      42.603\n",
      "HH_HAUSHALTSEINKOMMEN_3    60.7358      8.314      7.305      0.000      44.441      77.031\n",
      "HH_HAUSHALTSEINKOMMEN_4    47.8692      8.292      5.773      0.000      31.616      64.122\n",
      "HH_HAUSHALTSEINKOMMEN_5    62.1694      8.301      7.489      0.000      45.899      78.440\n",
      "HH_HAUSHALTSEINKOMMEN_6    56.7067      8.364      6.780      0.000      40.313      73.100\n",
      "HH_HAUSHALTSEINKOMMEN_7    58.5512      8.547      6.851      0.000      41.799      75.303\n",
      "HH_HAUSHALTSEINKOMMEN_8    35.7283      8.614      4.148      0.000      18.846      52.611\n",
      "HH_HAUSHALTSEINKOMMEN_9    38.6553      8.396      4.604      0.000      22.199      55.111\n",
      "HH_STADT_LAND_2            58.9012      2.000     29.446      0.000      54.981      62.822\n",
      "HH_STADT_LAND_3            88.7806      2.205     40.264      0.000      84.459      93.102\n",
      "==============================================================================\n",
      "Omnibus:                   154589.219   Durbin-Watson:                   1.997\n",
      "Prob(Omnibus):                  0.000   Jarque-Bera (JB):          1716697.368\n",
      "Skew:                           2.385   Prob(JB):                         0.00\n",
      "Kurtosis:                      14.010   Cond. No.                     1.58e+03\n",
      "==============================================================================\n",
      "\n",
      "Notes:\n",
      "[1] Standard Errors assume that the covariance matrix of the errors is correctly specified.\n",
      "[2] The condition number is large, 1.58e+03. This might indicate that there are\n",
      "strong multicollinearity or other numerical problems.\n"
     ]
    }
   ],
   "source": [
    "# Modell anpassen\n",
    "model3 = sm.OLS(y3, X3).fit()\n",
    "\n",
    "# Zusammenfassung des Modells anzeigen\n",
    "print(model3.summary())"
   ]
  },
  {
   "cell_type": "markdown",
   "metadata": {},
   "source": [
    "## Auswertung des komplexeren Modells\n"
   ]
  },
  {
   "cell_type": "markdown",
   "metadata": {},
   "source": [
    "- 1 Unter CHF 2000\n",
    "- 2 CHF 2000 bis 4000\n",
    "- 3 CHF 4001 bis 6000\n",
    "- 4 CHF 6001 bis 8000\n",
    "- 5 CHF 8001 bis 10000\n",
    "- 6 CHF 10001 bis 12000\n",
    "- 7 CHF 12001 bis 14000\n",
    "- 8 CHF 14001 bis 16000\n",
    "- 9 Mehr als CHF 16000"
   ]
  },
  {
   "cell_type": "markdown",
   "metadata": {},
   "source": [
    "Interpretation: \n",
    "\n",
    "Einkommensstufen (2 bis 7): Mit steigendem Einkommen wächst der CO₂-Ausstoss (Ausreisser bei Einkommen 4001 bis 6000)\n",
    "Einkommensstufen (8 und 9): Bei hohem Einkommen sinkt der CO₂-Ausstoss wieder\n",
    "Beispiel:\n",
    "\n",
    "CHF 2000-4000 (+25.53 kg)\n",
    "CHF 4001-6000 (+61.84 kg)\n",
    "CHF 6001-8000 (+49.79 kg)\n",
    "Höchste Kategorie (>16000): +35.97 kg\n",
    "Der signifikante Anstieg des CO₂-Ausstosses bei mittleren und hohen Einkommen könnte darauf hindeuten, dass wohlhabendere Haushalte häufiger CO₂-intensive Verkehrsmittel wie Autos oder Flugzeuge nutzen. Bei sehr hohem Einkommen nimmt der CO2-Ausstoss anschliessend ab."
   ]
  }
 ],
 "metadata": {
  "kernelspec": {
   "display_name": "Base",
   "language": "python",
   "name": "python3"
  },
  "language_info": {
   "codemirror_mode": {
    "name": "ipython",
    "version": 3
   },
   "file_extension": ".py",
   "mimetype": "text/x-python",
   "name": "python",
   "nbconvert_exporter": "python",
   "pygments_lexer": "ipython3",
   "version": "3.11.9"
  }
 },
 "nbformat": 4,
 "nbformat_minor": 2
}
