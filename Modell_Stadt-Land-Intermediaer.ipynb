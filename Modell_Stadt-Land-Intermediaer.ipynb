{
 "cells": [
  {
   "cell_type": "markdown",
   "metadata": {},
   "source": [
    "## Modellierung (1)"
   ]
  },
  {
   "cell_type": "markdown",
   "metadata": {},
   "source": [
    "### Modell stadt-land-intermediär & sozioökonomische-Faktoren"
   ]
  },
  {
   "cell_type": "markdown",
   "metadata": {},
   "source": [
    "Multiple lineare Regression nach Raumstruktur (stadt-land-intermediär & sozioökonomische-Faktoren)\n",
    "1) ohne sozioökonomische Faktoren\n",
    "2) dann Erweiterung\n",
    "\n",
    "unabhängige Variable (X-Parameter) :\n",
    "- Numerisch: Alter\n",
    "- Kategorisch: Haushaltseinkommen, Geschlecht, Raum\n",
    "\n",
    "abhängige Variable (Y-Parameter) : \n",
    "- CO₂-Emissionen\n",
    "\n",
    "Szenario-Analyse: \n",
    "Analog zu Literatur-Erkenntnissen (e.g., Bevölkerungszuwachs in Städten etc.)"
   ]
  },
  {
   "cell_type": "markdown",
   "metadata": {},
   "source": [
    "## 0. Vorbereitung: Import der benötigten Python-Libraries "
   ]
  },
  {
   "cell_type": "code",
   "execution_count": 1,
   "metadata": {
    "vscode": {
     "languageId": "markdown"
    }
   },
   "outputs": [],
   "source": [
    "import pandas as pd\n",
    "import geopandas as gpd\n",
    "import numpy as np\n",
    "import seaborn as sns                       #visualisation\n",
    "import matplotlib.pyplot as plt             #visualisation\n",
    "%matplotlib inline     \n",
    "sns.set(color_codes=True)\n",
    "from sklearn.model_selection import train_test_split"
   ]
  },
  {
   "cell_type": "code",
   "execution_count": 2,
   "metadata": {
    "vscode": {
     "languageId": "markdown"
    }
   },
   "outputs": [],
   "source": [
    "# Spezifisch für die linearen Modelle:\n",
    "import sklearn as sklearn\n",
    "import statsmodels.api as sm\n",
    "import statsmodels.formula.api as smf"
   ]
  },
  {
   "cell_type": "code",
   "execution_count": 3,
   "metadata": {
    "vscode": {
     "languageId": "markdown"
    }
   },
   "outputs": [
    {
     "data": {
      "text/html": [
       "<div>\n",
       "<style scoped>\n",
       "    .dataframe tbody tr th:only-of-type {\n",
       "        vertical-align: middle;\n",
       "    }\n",
       "\n",
       "    .dataframe tbody tr th {\n",
       "        vertical-align: top;\n",
       "    }\n",
       "\n",
       "    .dataframe thead th {\n",
       "        text-align: right;\n",
       "    }\n",
       "</style>\n",
       "<table border=\"1\" class=\"dataframe\">\n",
       "  <thead>\n",
       "    <tr style=\"text-align: right;\">\n",
       "      <th></th>\n",
       "      <th>HHNR</th>\n",
       "      <th>HH_BFS_NR</th>\n",
       "      <th>HH_PLZ</th>\n",
       "      <th>HH_ORT</th>\n",
       "      <th>HH_KANTON</th>\n",
       "      <th>HH_OEV_GUETEKLASSE</th>\n",
       "      <th>HH_STADT_LAND</th>\n",
       "      <th>HH_HAUSHALTSGROESSE</th>\n",
       "      <th>HH_HAUSHALTSEINKOMMEN</th>\n",
       "      <th>ZP_ALTER</th>\n",
       "      <th>...</th>\n",
       "      <th>FAHRZEUG_ENERGIEEFFIZIENZKLASSE</th>\n",
       "      <th>FAHRZEUG_VERBRAUCH</th>\n",
       "      <th>EL_Verbrauch</th>\n",
       "      <th>FAHRZEUG_JAHR_ERSTE_INVERKEHRSSETZUNG</th>\n",
       "      <th>ABSCHNITTLÄNGE_IN_KM</th>\n",
       "      <th>HH_RAUMTYPOLOGIE_9</th>\n",
       "      <th>CO2E_KG_KM_AUTO</th>\n",
       "      <th>CO2E_KG_KM_OTHER</th>\n",
       "      <th>CO2E_TOTAL</th>\n",
       "      <th>geometry</th>\n",
       "    </tr>\n",
       "  </thead>\n",
       "  <tbody>\n",
       "    <tr>\n",
       "      <th>0</th>\n",
       "      <td>110001</td>\n",
       "      <td>5624</td>\n",
       "      <td>1030</td>\n",
       "      <td>Bussigny</td>\n",
       "      <td>22</td>\n",
       "      <td>3</td>\n",
       "      <td>Städtisch (1)</td>\n",
       "      <td>2</td>\n",
       "      <td>5</td>\n",
       "      <td>57</td>\n",
       "      <td>...</td>\n",
       "      <td>D</td>\n",
       "      <td>-99.0</td>\n",
       "      <td>-99.0</td>\n",
       "      <td>-97.0</td>\n",
       "      <td>0.414223</td>\n",
       "      <td>Städtische Gemeinde einer grossen Agglomeratio...</td>\n",
       "      <td>200.4</td>\n",
       "      <td>NaN</td>\n",
       "      <td>83.010354</td>\n",
       "      <td>LINESTRING Z (2532653.357 1155702.624 420.558,...</td>\n",
       "    </tr>\n",
       "    <tr>\n",
       "      <th>1</th>\n",
       "      <td>110001</td>\n",
       "      <td>5624</td>\n",
       "      <td>1030</td>\n",
       "      <td>Bussigny</td>\n",
       "      <td>22</td>\n",
       "      <td>3</td>\n",
       "      <td>Städtisch (1)</td>\n",
       "      <td>2</td>\n",
       "      <td>5</td>\n",
       "      <td>57</td>\n",
       "      <td>...</td>\n",
       "      <td>D</td>\n",
       "      <td>-99.0</td>\n",
       "      <td>-99.0</td>\n",
       "      <td>-97.0</td>\n",
       "      <td>0.307909</td>\n",
       "      <td>Städtische Gemeinde einer grossen Agglomeratio...</td>\n",
       "      <td>200.4</td>\n",
       "      <td>NaN</td>\n",
       "      <td>61.705018</td>\n",
       "      <td>LINESTRING Z (2532933.573 1155665.561 430.418,...</td>\n",
       "    </tr>\n",
       "    <tr>\n",
       "      <th>2</th>\n",
       "      <td>110001</td>\n",
       "      <td>5624</td>\n",
       "      <td>1030</td>\n",
       "      <td>Bussigny</td>\n",
       "      <td>22</td>\n",
       "      <td>3</td>\n",
       "      <td>Städtisch (1)</td>\n",
       "      <td>2</td>\n",
       "      <td>5</td>\n",
       "      <td>57</td>\n",
       "      <td>...</td>\n",
       "      <td>D</td>\n",
       "      <td>-99.0</td>\n",
       "      <td>-99.0</td>\n",
       "      <td>-97.0</td>\n",
       "      <td>0.586282</td>\n",
       "      <td>Städtische Gemeinde einer grossen Agglomeratio...</td>\n",
       "      <td>200.4</td>\n",
       "      <td>NaN</td>\n",
       "      <td>117.490869</td>\n",
       "      <td>LINESTRING Z (2533071.108 1155894.339 430.657,...</td>\n",
       "    </tr>\n",
       "    <tr>\n",
       "      <th>3</th>\n",
       "      <td>110001</td>\n",
       "      <td>5624</td>\n",
       "      <td>1030</td>\n",
       "      <td>Bussigny</td>\n",
       "      <td>22</td>\n",
       "      <td>3</td>\n",
       "      <td>Städtisch (1)</td>\n",
       "      <td>2</td>\n",
       "      <td>5</td>\n",
       "      <td>57</td>\n",
       "      <td>...</td>\n",
       "      <td>D</td>\n",
       "      <td>-99.0</td>\n",
       "      <td>-99.0</td>\n",
       "      <td>-97.0</td>\n",
       "      <td>1.599024</td>\n",
       "      <td>Städtische Gemeinde einer grossen Agglomeratio...</td>\n",
       "      <td>200.4</td>\n",
       "      <td>NaN</td>\n",
       "      <td>320.444438</td>\n",
       "      <td>MULTILINESTRING Z ((2532653.357 1155702.624 41...</td>\n",
       "    </tr>\n",
       "    <tr>\n",
       "      <th>4</th>\n",
       "      <td>110001</td>\n",
       "      <td>5624</td>\n",
       "      <td>1030</td>\n",
       "      <td>Bussigny</td>\n",
       "      <td>22</td>\n",
       "      <td>3</td>\n",
       "      <td>Städtisch (1)</td>\n",
       "      <td>2</td>\n",
       "      <td>5</td>\n",
       "      <td>57</td>\n",
       "      <td>...</td>\n",
       "      <td>D</td>\n",
       "      <td>-99.0</td>\n",
       "      <td>-99.0</td>\n",
       "      <td>-97.0</td>\n",
       "      <td>2.445678</td>\n",
       "      <td>Städtische Gemeinde einer grossen Agglomeratio...</td>\n",
       "      <td>200.4</td>\n",
       "      <td>NaN</td>\n",
       "      <td>490.113940</td>\n",
       "      <td>LINESTRING Z (2532957.334 1156871.023 475.614,...</td>\n",
       "    </tr>\n",
       "  </tbody>\n",
       "</table>\n",
       "<p>5 rows × 41 columns</p>\n",
       "</div>"
      ],
      "text/plain": [
       "     HHNR  HH_BFS_NR  HH_PLZ    HH_ORT  HH_KANTON  HH_OEV_GUETEKLASSE  \\\n",
       "0  110001       5624    1030  Bussigny         22                   3   \n",
       "1  110001       5624    1030  Bussigny         22                   3   \n",
       "2  110001       5624    1030  Bussigny         22                   3   \n",
       "3  110001       5624    1030  Bussigny         22                   3   \n",
       "4  110001       5624    1030  Bussigny         22                   3   \n",
       "\n",
       "   HH_STADT_LAND  HH_HAUSHALTSGROESSE  HH_HAUSHALTSEINKOMMEN  ZP_ALTER  ...  \\\n",
       "0  Städtisch (1)                    2                      5        57  ...   \n",
       "1  Städtisch (1)                    2                      5        57  ...   \n",
       "2  Städtisch (1)                    2                      5        57  ...   \n",
       "3  Städtisch (1)                    2                      5        57  ...   \n",
       "4  Städtisch (1)                    2                      5        57  ...   \n",
       "\n",
       "   FAHRZEUG_ENERGIEEFFIZIENZKLASSE  FAHRZEUG_VERBRAUCH  EL_Verbrauch  \\\n",
       "0                                D               -99.0         -99.0   \n",
       "1                                D               -99.0         -99.0   \n",
       "2                                D               -99.0         -99.0   \n",
       "3                                D               -99.0         -99.0   \n",
       "4                                D               -99.0         -99.0   \n",
       "\n",
       "   FAHRZEUG_JAHR_ERSTE_INVERKEHRSSETZUNG  ABSCHNITTLÄNGE_IN_KM  \\\n",
       "0                                  -97.0              0.414223   \n",
       "1                                  -97.0              0.307909   \n",
       "2                                  -97.0              0.586282   \n",
       "3                                  -97.0              1.599024   \n",
       "4                                  -97.0              2.445678   \n",
       "\n",
       "                                  HH_RAUMTYPOLOGIE_9 CO2E_KG_KM_AUTO  \\\n",
       "0  Städtische Gemeinde einer grossen Agglomeratio...           200.4   \n",
       "1  Städtische Gemeinde einer grossen Agglomeratio...           200.4   \n",
       "2  Städtische Gemeinde einer grossen Agglomeratio...           200.4   \n",
       "3  Städtische Gemeinde einer grossen Agglomeratio...           200.4   \n",
       "4  Städtische Gemeinde einer grossen Agglomeratio...           200.4   \n",
       "\n",
       "  CO2E_KG_KM_OTHER  CO2E_TOTAL  \\\n",
       "0              NaN   83.010354   \n",
       "1              NaN   61.705018   \n",
       "2              NaN  117.490869   \n",
       "3              NaN  320.444438   \n",
       "4              NaN  490.113940   \n",
       "\n",
       "                                            geometry  \n",
       "0  LINESTRING Z (2532653.357 1155702.624 420.558,...  \n",
       "1  LINESTRING Z (2532933.573 1155665.561 430.418,...  \n",
       "2  LINESTRING Z (2533071.108 1155894.339 430.657,...  \n",
       "3  MULTILINESTRING Z ((2532653.357 1155702.624 41...  \n",
       "4  LINESTRING Z (2532957.334 1156871.023 475.614,...  \n",
       "\n",
       "[5 rows x 41 columns]"
      ]
     },
     "execution_count": 3,
     "metadata": {},
     "output_type": "execute_result"
    }
   ],
   "source": [
    "# Laden der Datei wege.gpkg\n",
    "wege = gpd.read_file('wege.gpkg')\n",
    "\n",
    "# Anzeigen der ersten Zeilen der Datei\n",
    "wege.head()\n"
   ]
  },
  {
   "cell_type": "code",
   "execution_count": 4,
   "metadata": {
    "vscode": {
     "languageId": "markdown"
    }
   },
   "outputs": [
    {
     "name": "stdout",
     "output_type": "stream",
     "text": [
      "<class 'geopandas.geodataframe.GeoDataFrame'>\n",
      "RangeIndex: 552622 entries, 0 to 552621\n",
      "Data columns (total 41 columns):\n",
      " #   Column                                 Non-Null Count   Dtype   \n",
      "---  ------                                 --------------   -----   \n",
      " 0   HHNR                                   552622 non-null  int64   \n",
      " 1   HH_BFS_NR                              552622 non-null  int64   \n",
      " 2   HH_PLZ                                 552622 non-null  int64   \n",
      " 3   HH_ORT                                 552622 non-null  object  \n",
      " 4   HH_KANTON                              552622 non-null  int64   \n",
      " 5   HH_OEV_GUETEKLASSE                     552622 non-null  int64   \n",
      " 6   HH_STADT_LAND                          552622 non-null  object  \n",
      " 7   HH_HAUSHALTSGROESSE                    552622 non-null  int64   \n",
      " 8   HH_HAUSHALTSEINKOMMEN                  552622 non-null  int64   \n",
      " 9   ZP_ALTER                               552622 non-null  int64   \n",
      " 10  ZP_GESL                                552622 non-null  int64   \n",
      " 11  ZP_HOECHSTE_AUSBILDUNG                 552622 non-null  int64   \n",
      " 12  ZP_ZIVILSTAND                          552622 non-null  int64   \n",
      " 13  ZP_HOECHSTE_AUSBILDUNGSSTUFE           552622 non-null  int64   \n",
      " 14  ET_ETNR                                552622 non-null  int64   \n",
      " 15  ET_WEGNR                               552622 non-null  int64   \n",
      " 16  ET_VERKEHRSMITTEL                      552622 non-null  object  \n",
      " 17  GIS_E_ID                               552622 non-null  object  \n",
      " 18  WEGABSCHNITT_BFS_NR                    552622 non-null  int64   \n",
      " 19  WEGABSCHNITT_NAME                      552622 non-null  object  \n",
      " 20  WEGABSCHNITT_GEMEINDEFLEACHE           552622 non-null  float64 \n",
      " 21  WEGABSCHNITT_EINWOHNERZAHL             552622 non-null  int64   \n",
      " 22  WEGABSCHNITT_GEMEINDE_NAME             552622 non-null  object  \n",
      " 23  WEGABSCHNITT_STADT_LAND_TYPOLOGIE      552622 non-null  object  \n",
      " 24  FAHRZEUGE_FAHRZEUGART                  381018 non-null  object  \n",
      " 25  FAHRZEUG_TREIBSTOFF                    381018 non-null  object  \n",
      " 26  FAHRZEUG_JAEHRLICHE_FAHRLEISTUNG       381018 non-null  float64 \n",
      " 27  FAHRZEUG_KILOMETERSTAND                381018 non-null  float64 \n",
      " 28  FAHRZEUG_GEWICHT                       381018 non-null  float64 \n",
      " 29  FAHRZEUG_ANTRIEB                       381018 non-null  float64 \n",
      " 30  FAHRZEUG_CO2                           381018 non-null  float64 \n",
      " 31  FAHRZEUG_ENERGIEEFFIZIENZKLASSE        381018 non-null  object  \n",
      " 32  FAHRZEUG_VERBRAUCH                     381018 non-null  float64 \n",
      " 33  EL_Verbrauch                           379324 non-null  float64 \n",
      " 34  FAHRZEUG_JAHR_ERSTE_INVERKEHRSSETZUNG  381018 non-null  float64 \n",
      " 35  ABSCHNITTLÄNGE_IN_KM                   552622 non-null  float64 \n",
      " 36  HH_RAUMTYPOLOGIE_9                     548503 non-null  object  \n",
      " 37  CO2E_KG_KM_AUTO                        373366 non-null  float64 \n",
      " 38  CO2E_KG_KM_OTHER                       100006 non-null  float64 \n",
      " 39  CO2E_TOTAL                             473372 non-null  float64 \n",
      " 40  geometry                               552622 non-null  geometry\n",
      "dtypes: float64(13), geometry(1), int64(16), object(11)\n",
      "memory usage: 172.9+ MB\n",
      "None\n"
     ]
    }
   ],
   "source": [
    "print(wege.info())"
   ]
  },
  {
   "cell_type": "code",
   "execution_count": 5,
   "metadata": {
    "vscode": {
     "languageId": "markdown"
    }
   },
   "outputs": [
    {
     "data": {
      "text/plain": [
       "array(['Städtisch (1)', 'Intermediär (2)', 'Ländlich (3)'], dtype=object)"
      ]
     },
     "execution_count": 5,
     "metadata": {},
     "output_type": "execute_result"
    }
   ],
   "source": [
    "# Verschiedene Werte HH_STADT_LAND anzeigen\n",
    "wege['HH_STADT_LAND'].unique()"
   ]
  },
  {
   "cell_type": "markdown",
   "metadata": {},
   "source": [
    "## 2. Vorverarbeitung der Daten\n"
   ]
  },
  {
   "cell_type": "markdown",
   "metadata": {},
   "source": [
    "Die Verarbeitung wurde bei der Bearbeitung des Originaldatensatzes bzw. bei der Ermittlung der CO₂-Werte grösstenteils bereits abgeschlossen. Es sind lediglich minimale Anpassungen erforderlich, um kategoriale Werte in numerische Dummy-Variablen umzuwandeln. Dies betrifft ausschliesslich den Parameter HH_STADT_LAND und HH_HAUSHALTSEINKOMMEN da die Dummy-Variablen für die übrigen Parameter bereits erstellt wurden."
   ]
  },
  {
   "cell_type": "code",
   "execution_count": 6,
   "metadata": {
    "vscode": {
     "languageId": "markdown"
    }
   },
   "outputs": [
    {
     "name": "stdout",
     "output_type": "stream",
     "text": [
      "   HH_STADT_LAND  ZP_GESL  HH_HAUSHALTSEINKOMMEN\n",
      "0              1        1                10000.0\n",
      "1              1        1                10000.0\n",
      "2              1        1                10000.0\n",
      "3              1        1                10000.0\n",
      "4              1        1                10000.0\n"
     ]
    },
    {
     "name": "stderr",
     "output_type": "stream",
     "text": [
      "C:\\Users\\User\\AppData\\Local\\Temp\\ipykernel_19872\\1250325597.py:11: FutureWarning: Downcasting behavior in `replace` is deprecated and will be removed in a future version. To retain the old behavior, explicitly call `result.infer_objects(copy=False)`. To opt-in to the future behavior, set `pd.set_option('future.no_silent_downcasting', True)`\n",
      "  wege['HH_HAUSHALTSEINKOMMEN'] = wege['HH_HAUSHALTSEINKOMMEN'].replace({\n"
     ]
    }
   ],
   "source": [
    "### 2.1. Transformation von Werten\n",
    "\n",
    "# Umwandlung von HH_STADT_LAND\n",
    "wege['HH_STADT_LAND'] = wege['HH_STADT_LAND'].map({\n",
    "    'Städtisch (1)': 1,\n",
    "    'Intermediär (2)': 2,\n",
    "    'Ländlich (3)': 3\n",
    "})\n",
    "\n",
    "# Umwandlung von HH_HAUSHALTSEINKOMMEN\n",
    "wege['HH_HAUSHALTSEINKOMMEN'] = wege['HH_HAUSHALTSEINKOMMEN'].replace({\n",
    "    -99: None, # Nicht gestellt\n",
    "    -98: None, # Keine Antwort\n",
    "    -97: None, # Weiss nicht\n",
    "    1: 2000, # Unter CHF 2000\n",
    "    2: 4000, # CHF 2000 bis 4000\n",
    "    3: 6000, # CHF 4001 bis 6000\n",
    "    4: 8000, # CHF 6001 bis 8000\n",
    "    5: 10000, # CHF 8001 bis 10000\n",
    "    6: 12000, # CHF 10001 bis 12000\n",
    "    7: 14000, # CHF 12001 bis 14000\n",
    "    8: 16000, # CHF 14001 bis 16000\n",
    "    9: 18000  # Mehr als CHF 16000\n",
    "})\n",
    "\n",
    "# Anzeigen der ersten Zeilen zur Überprüfung\n",
    "print(wege[['HH_STADT_LAND', 'ZP_GESL', 'HH_HAUSHALTSEINKOMMEN',]].head())\n"
   ]
  },
  {
   "cell_type": "code",
   "execution_count": 7,
   "metadata": {
    "vscode": {
     "languageId": "markdown"
    }
   },
   "outputs": [
    {
     "name": "stdout",
     "output_type": "stream",
     "text": [
      "<class 'geopandas.geodataframe.GeoDataFrame'>\n",
      "RangeIndex: 552622 entries, 0 to 552621\n",
      "Data columns (total 41 columns):\n",
      " #   Column                                 Non-Null Count   Dtype   \n",
      "---  ------                                 --------------   -----   \n",
      " 0   HHNR                                   552622 non-null  int64   \n",
      " 1   HH_BFS_NR                              552622 non-null  int64   \n",
      " 2   HH_PLZ                                 552622 non-null  int64   \n",
      " 3   HH_ORT                                 552622 non-null  object  \n",
      " 4   HH_KANTON                              552622 non-null  int64   \n",
      " 5   HH_OEV_GUETEKLASSE                     552622 non-null  int64   \n",
      " 6   HH_STADT_LAND                          552622 non-null  int64   \n",
      " 7   HH_HAUSHALTSGROESSE                    552622 non-null  int64   \n",
      " 8   HH_HAUSHALTSEINKOMMEN                  407272 non-null  float64 \n",
      " 9   ZP_ALTER                               552622 non-null  int64   \n",
      " 10  ZP_GESL                                552622 non-null  int64   \n",
      " 11  ZP_HOECHSTE_AUSBILDUNG                 552622 non-null  int64   \n",
      " 12  ZP_ZIVILSTAND                          552622 non-null  int64   \n",
      " 13  ZP_HOECHSTE_AUSBILDUNGSSTUFE           552622 non-null  int64   \n",
      " 14  ET_ETNR                                552622 non-null  int64   \n",
      " 15  ET_WEGNR                               552622 non-null  int64   \n",
      " 16  ET_VERKEHRSMITTEL                      552622 non-null  object  \n",
      " 17  GIS_E_ID                               552622 non-null  object  \n",
      " 18  WEGABSCHNITT_BFS_NR                    552622 non-null  int64   \n",
      " 19  WEGABSCHNITT_NAME                      552622 non-null  object  \n",
      " 20  WEGABSCHNITT_GEMEINDEFLEACHE           552622 non-null  float64 \n",
      " 21  WEGABSCHNITT_EINWOHNERZAHL             552622 non-null  int64   \n",
      " 22  WEGABSCHNITT_GEMEINDE_NAME             552622 non-null  object  \n",
      " 23  WEGABSCHNITT_STADT_LAND_TYPOLOGIE      552622 non-null  object  \n",
      " 24  FAHRZEUGE_FAHRZEUGART                  381018 non-null  object  \n",
      " 25  FAHRZEUG_TREIBSTOFF                    381018 non-null  object  \n",
      " 26  FAHRZEUG_JAEHRLICHE_FAHRLEISTUNG       381018 non-null  float64 \n",
      " 27  FAHRZEUG_KILOMETERSTAND                381018 non-null  float64 \n",
      " 28  FAHRZEUG_GEWICHT                       381018 non-null  float64 \n",
      " 29  FAHRZEUG_ANTRIEB                       381018 non-null  float64 \n",
      " 30  FAHRZEUG_CO2                           381018 non-null  float64 \n",
      " 31  FAHRZEUG_ENERGIEEFFIZIENZKLASSE        381018 non-null  object  \n",
      " 32  FAHRZEUG_VERBRAUCH                     381018 non-null  float64 \n",
      " 33  EL_Verbrauch                           379324 non-null  float64 \n",
      " 34  FAHRZEUG_JAHR_ERSTE_INVERKEHRSSETZUNG  381018 non-null  float64 \n",
      " 35  ABSCHNITTLÄNGE_IN_KM                   552622 non-null  float64 \n",
      " 36  HH_RAUMTYPOLOGIE_9                     548503 non-null  object  \n",
      " 37  CO2E_KG_KM_AUTO                        373366 non-null  float64 \n",
      " 38  CO2E_KG_KM_OTHER                       100006 non-null  float64 \n",
      " 39  CO2E_TOTAL                             473372 non-null  float64 \n",
      " 40  geometry                               552622 non-null  geometry\n",
      "dtypes: float64(14), geometry(1), int64(16), object(10)\n",
      "memory usage: 172.9+ MB\n",
      "None\n"
     ]
    }
   ],
   "source": [
    "print(wege.info())"
   ]
  },
  {
   "cell_type": "markdown",
   "metadata": {},
   "source": [
    "## 3. Modell Trainieren und Analysieren"
   ]
  },
  {
   "cell_type": "code",
   "execution_count": 8,
   "metadata": {
    "vscode": {
     "languageId": "markdown"
    }
   },
   "outputs": [],
   "source": [
    "## 3.1. Vorbereiten der Daten\n",
    "\n",
    "## Aufteilen in Trainings- und Testdaten (80% Training, 20% Test)\n",
    "from sklearn.model_selection import train_test_split\n",
    "train, test = train_test_split(wege, test_size=0.2, random_state=42)"
   ]
  },
  {
   "cell_type": "code",
   "execution_count": 9,
   "metadata": {
    "vscode": {
     "languageId": "markdown"
    }
   },
   "outputs": [
    {
     "name": "stdout",
     "output_type": "stream",
     "text": [
      "Trainingsdaten: (442097, 41)\n",
      "Testdaten: (110525, 41)\n"
     ]
    }
   ],
   "source": [
    "## Ergebnisse anzeigen\n",
    "print(f\"Trainingsdaten: {train.shape}\")\n",
    "print(f\"Testdaten: {test.shape}\")"
   ]
  },
  {
   "cell_type": "code",
   "execution_count": 10,
   "metadata": {
    "vscode": {
     "languageId": "markdown"
    }
   },
   "outputs": [],
   "source": [
    "## 3.2. Lineare Regression mit einer unabhängigen Variabel\n",
    "lmf_region_co2 = smf.ols('CO2E_TOTAL ~ HH_STADT_LAND', data=train)\n"
   ]
  },
  {
   "cell_type": "code",
   "execution_count": 11,
   "metadata": {
    "vscode": {
     "languageId": "markdown"
    }
   },
   "outputs": [],
   "source": [
    "fitted_lmf_region_co2 = lmf_region_co2.fit()"
   ]
  },
  {
   "cell_type": "code",
   "execution_count": 12,
   "metadata": {
    "vscode": {
     "languageId": "markdown"
    }
   },
   "outputs": [
    {
     "data": {
      "text/html": [
       "<table class=\"simpletable\">\n",
       "<caption>OLS Regression Results</caption>\n",
       "<tr>\n",
       "  <th>Dep. Variable:</th>       <td>CO2E_TOTAL</td>    <th>  R-squared:         </th>  <td>   0.007</td>  \n",
       "</tr>\n",
       "<tr>\n",
       "  <th>Model:</th>                   <td>OLS</td>       <th>  Adj. R-squared:    </th>  <td>   0.007</td>  \n",
       "</tr>\n",
       "<tr>\n",
       "  <th>Method:</th>             <td>Least Squares</td>  <th>  F-statistic:       </th>  <td>   2611.</td>  \n",
       "</tr>\n",
       "<tr>\n",
       "  <th>Date:</th>             <td>Sun, 08 Dec 2024</td> <th>  Prob (F-statistic):</th>   <td>  0.00</td>   \n",
       "</tr>\n",
       "<tr>\n",
       "  <th>Time:</th>                 <td>20:02:18</td>     <th>  Log-Likelihood:    </th> <td>-2.8262e+06</td>\n",
       "</tr>\n",
       "<tr>\n",
       "  <th>No. Observations:</th>      <td>378621</td>      <th>  AIC:               </th>  <td>5.652e+06</td> \n",
       "</tr>\n",
       "<tr>\n",
       "  <th>Df Residuals:</th>          <td>378619</td>      <th>  BIC:               </th>  <td>5.652e+06</td> \n",
       "</tr>\n",
       "<tr>\n",
       "  <th>Df Model:</th>              <td>     1</td>      <th>                     </th>      <td> </td>     \n",
       "</tr>\n",
       "<tr>\n",
       "  <th>Covariance Type:</th>      <td>nonrobust</td>    <th>                     </th>      <td> </td>     \n",
       "</tr>\n",
       "</table>\n",
       "<table class=\"simpletable\">\n",
       "<tr>\n",
       "        <td></td>           <th>coef</th>     <th>std err</th>      <th>t</th>      <th>P>|t|</th>  <th>[0.025</th>    <th>0.975]</th>  \n",
       "</tr>\n",
       "<tr>\n",
       "  <th>Intercept</th>     <td>  348.3118</td> <td>    1.548</td> <td>  224.974</td> <td> 0.000</td> <td>  345.277</td> <td>  351.346</td>\n",
       "</tr>\n",
       "<tr>\n",
       "  <th>HH_STADT_LAND</th> <td>   46.2298</td> <td>    0.905</td> <td>   51.093</td> <td> 0.000</td> <td>   44.456</td> <td>   48.003</td>\n",
       "</tr>\n",
       "</table>\n",
       "<table class=\"simpletable\">\n",
       "<tr>\n",
       "  <th>Omnibus:</th>       <td>208477.931</td> <th>  Durbin-Watson:     </th>  <td>   2.001</td>  \n",
       "</tr>\n",
       "<tr>\n",
       "  <th>Prob(Omnibus):</th>   <td> 0.000</td>   <th>  Jarque-Bera (JB):  </th> <td>2454967.907</td>\n",
       "</tr>\n",
       "<tr>\n",
       "  <th>Skew:</th>            <td> 2.424</td>   <th>  Prob(JB):          </th>  <td>    0.00</td>  \n",
       "</tr>\n",
       "<tr>\n",
       "  <th>Kurtosis:</th>        <td>14.494</td>   <th>  Cond. No.          </th>  <td>    4.98</td>  \n",
       "</tr>\n",
       "</table><br/><br/>Notes:<br/>[1] Standard Errors assume that the covariance matrix of the errors is correctly specified."
      ],
      "text/latex": [
       "\\begin{center}\n",
       "\\begin{tabular}{lclc}\n",
       "\\toprule\n",
       "\\textbf{Dep. Variable:}    &   CO2E\\_TOTAL    & \\textbf{  R-squared:         } &      0.007   \\\\\n",
       "\\textbf{Model:}            &       OLS        & \\textbf{  Adj. R-squared:    } &      0.007   \\\\\n",
       "\\textbf{Method:}           &  Least Squares   & \\textbf{  F-statistic:       } &      2611.   \\\\\n",
       "\\textbf{Date:}             & Sun, 08 Dec 2024 & \\textbf{  Prob (F-statistic):} &      0.00    \\\\\n",
       "\\textbf{Time:}             &     20:02:18     & \\textbf{  Log-Likelihood:    } & -2.8262e+06  \\\\\n",
       "\\textbf{No. Observations:} &      378621      & \\textbf{  AIC:               } &  5.652e+06   \\\\\n",
       "\\textbf{Df Residuals:}     &      378619      & \\textbf{  BIC:               } &  5.652e+06   \\\\\n",
       "\\textbf{Df Model:}         &           1      & \\textbf{                     } &              \\\\\n",
       "\\textbf{Covariance Type:}  &    nonrobust     & \\textbf{                     } &              \\\\\n",
       "\\bottomrule\n",
       "\\end{tabular}\n",
       "\\begin{tabular}{lcccccc}\n",
       "                         & \\textbf{coef} & \\textbf{std err} & \\textbf{t} & \\textbf{P$> |$t$|$} & \\textbf{[0.025} & \\textbf{0.975]}  \\\\\n",
       "\\midrule\n",
       "\\textbf{Intercept}       &     348.3118  &        1.548     &   224.974  &         0.000        &      345.277    &      351.346     \\\\\n",
       "\\textbf{HH\\_STADT\\_LAND} &      46.2298  &        0.905     &    51.093  &         0.000        &       44.456    &       48.003     \\\\\n",
       "\\bottomrule\n",
       "\\end{tabular}\n",
       "\\begin{tabular}{lclc}\n",
       "\\textbf{Omnibus:}       & 208477.931 & \\textbf{  Durbin-Watson:     } &      2.001   \\\\\n",
       "\\textbf{Prob(Omnibus):} &    0.000   & \\textbf{  Jarque-Bera (JB):  } & 2454967.907  \\\\\n",
       "\\textbf{Skew:}          &    2.424   & \\textbf{  Prob(JB):          } &       0.00   \\\\\n",
       "\\textbf{Kurtosis:}      &   14.494   & \\textbf{  Cond. No.          } &       4.98   \\\\\n",
       "\\bottomrule\n",
       "\\end{tabular}\n",
       "%\\caption{OLS Regression Results}\n",
       "\\end{center}\n",
       "\n",
       "Notes: \\newline\n",
       " [1] Standard Errors assume that the covariance matrix of the errors is correctly specified."
      ],
      "text/plain": [
       "<class 'statsmodels.iolib.summary.Summary'>\n",
       "\"\"\"\n",
       "                            OLS Regression Results                            \n",
       "==============================================================================\n",
       "Dep. Variable:             CO2E_TOTAL   R-squared:                       0.007\n",
       "Model:                            OLS   Adj. R-squared:                  0.007\n",
       "Method:                 Least Squares   F-statistic:                     2611.\n",
       "Date:                Sun, 08 Dec 2024   Prob (F-statistic):               0.00\n",
       "Time:                        20:02:18   Log-Likelihood:            -2.8262e+06\n",
       "No. Observations:              378621   AIC:                         5.652e+06\n",
       "Df Residuals:                  378619   BIC:                         5.652e+06\n",
       "Df Model:                           1                                         \n",
       "Covariance Type:            nonrobust                                         \n",
       "=================================================================================\n",
       "                    coef    std err          t      P>|t|      [0.025      0.975]\n",
       "---------------------------------------------------------------------------------\n",
       "Intercept       348.3118      1.548    224.974      0.000     345.277     351.346\n",
       "HH_STADT_LAND    46.2298      0.905     51.093      0.000      44.456      48.003\n",
       "==============================================================================\n",
       "Omnibus:                   208477.931   Durbin-Watson:                   2.001\n",
       "Prob(Omnibus):                  0.000   Jarque-Bera (JB):          2454967.907\n",
       "Skew:                           2.424   Prob(JB):                         0.00\n",
       "Kurtosis:                      14.494   Cond. No.                         4.98\n",
       "==============================================================================\n",
       "\n",
       "Notes:\n",
       "[1] Standard Errors assume that the covariance matrix of the errors is correctly specified.\n",
       "\"\"\""
      ]
     },
     "execution_count": 12,
     "metadata": {},
     "output_type": "execute_result"
    }
   ],
   "source": [
    "fitted_lmf_region_co2.summary()"
   ]
  },
  {
   "cell_type": "markdown",
   "metadata": {},
   "source": [
    "Das Modell versucht, die Gesamtemissionen (CO₂) vorherzusagen. (Abhängige Variable= CO2E_TOTAL)\n",
    "\n",
    "R-squared (R²): 0.007 bedeutet, dass nur etwa 0,7 % der Varianz von CO2E_TOTAL durch die erklärenden Variablen (HH_STADT_LAND) erklärt werden. Der Wert ist extrem niedrig, was darauf hinweist, dass das Modell nur sehr wenig Vorhersagekraft besitzt."
   ]
  },
  {
   "cell_type": "code",
   "execution_count": 13,
   "metadata": {
    "vscode": {
     "languageId": "markdown"
    }
   },
   "outputs": [
    {
     "data": {
      "text/plain": [
       "154659    394.541600\n",
       "233487    394.541600\n",
       "191763    394.541600\n",
       "156415    394.541600\n",
       "396853    440.771407\n",
       "             ...    \n",
       "110268    394.541600\n",
       "259178    394.541600\n",
       "365838    394.541600\n",
       "131932    394.541600\n",
       "121958    394.541600\n",
       "Length: 442097, dtype: float64"
      ]
     },
     "execution_count": 13,
     "metadata": {},
     "output_type": "execute_result"
    }
   ],
   "source": [
    "## 3.3. Prädiktion auf Trainings- und Testdaten\n",
    "fitted_lmf_region_co2.predict(train[[\"HH_STADT_LAND\"]] )"
   ]
  },
  {
   "cell_type": "code",
   "execution_count": 14,
   "metadata": {
    "vscode": {
     "languageId": "markdown"
    }
   },
   "outputs": [],
   "source": [
    "def get_prediction_and_residuum(fitted_model, data_set, soll_wert):\n",
    "    prediction = fitted_model.predict( data_set )\n",
    "    df_prediction = pd.DataFrame(prediction, columns = ['Prediction'])\n",
    "    df_prediction['Residuum'] = soll_wert - df_prediction['Prediction']\n",
    "    return df_prediction"
   ]
  },
  {
   "cell_type": "code",
   "execution_count": 15,
   "metadata": {
    "vscode": {
     "languageId": "markdown"
    }
   },
   "outputs": [],
   "source": [
    "# Trainingsdaten\n",
    "df_pred_lmf_region_co2_TR = get_prediction_and_residuum(fitted_lmf_region_co2, train, \n",
    "                                                  train['CO2E_TOTAL'])\n",
    "\n",
    "# Testdaten\n",
    "df_pred_lmf_region_co2_TE = get_prediction_and_residuum(fitted_lmf_region_co2, test, \n",
    "                                                  test['CO2E_TOTAL'])"
   ]
  },
  {
   "cell_type": "code",
   "execution_count": 16,
   "metadata": {
    "vscode": {
     "languageId": "markdown"
    }
   },
   "outputs": [
    {
     "data": {
      "text/html": [
       "<div>\n",
       "<style scoped>\n",
       "    .dataframe tbody tr th:only-of-type {\n",
       "        vertical-align: middle;\n",
       "    }\n",
       "\n",
       "    .dataframe tbody tr th {\n",
       "        vertical-align: top;\n",
       "    }\n",
       "\n",
       "    .dataframe thead th {\n",
       "        text-align: right;\n",
       "    }\n",
       "</style>\n",
       "<table border=\"1\" class=\"dataframe\">\n",
       "  <thead>\n",
       "    <tr style=\"text-align: right;\">\n",
       "      <th></th>\n",
       "      <th>Prediction</th>\n",
       "      <th>Residuum</th>\n",
       "    </tr>\n",
       "  </thead>\n",
       "  <tbody>\n",
       "    <tr>\n",
       "      <th>15101</th>\n",
       "      <td>394.541600</td>\n",
       "      <td>307.276501</td>\n",
       "    </tr>\n",
       "    <tr>\n",
       "      <th>5919</th>\n",
       "      <td>487.001214</td>\n",
       "      <td>145.441886</td>\n",
       "    </tr>\n",
       "    <tr>\n",
       "      <th>507352</th>\n",
       "      <td>487.001214</td>\n",
       "      <td>1347.175815</td>\n",
       "    </tr>\n",
       "    <tr>\n",
       "      <th>402170</th>\n",
       "      <td>394.541600</td>\n",
       "      <td>163.479438</td>\n",
       "    </tr>\n",
       "    <tr>\n",
       "      <th>285488</th>\n",
       "      <td>440.771407</td>\n",
       "      <td>-413.404163</td>\n",
       "    </tr>\n",
       "    <tr>\n",
       "      <th>...</th>\n",
       "      <td>...</td>\n",
       "      <td>...</td>\n",
       "    </tr>\n",
       "    <tr>\n",
       "      <th>188461</th>\n",
       "      <td>394.541600</td>\n",
       "      <td>-382.743820</td>\n",
       "    </tr>\n",
       "    <tr>\n",
       "      <th>189111</th>\n",
       "      <td>487.001214</td>\n",
       "      <td>179.392865</td>\n",
       "    </tr>\n",
       "    <tr>\n",
       "      <th>467493</th>\n",
       "      <td>440.771407</td>\n",
       "      <td>-432.515667</td>\n",
       "    </tr>\n",
       "    <tr>\n",
       "      <th>551839</th>\n",
       "      <td>440.771407</td>\n",
       "      <td>-319.815818</td>\n",
       "    </tr>\n",
       "    <tr>\n",
       "      <th>324874</th>\n",
       "      <td>394.541600</td>\n",
       "      <td>705.227225</td>\n",
       "    </tr>\n",
       "  </tbody>\n",
       "</table>\n",
       "<p>110525 rows × 2 columns</p>\n",
       "</div>"
      ],
      "text/plain": [
       "        Prediction     Residuum\n",
       "15101   394.541600   307.276501\n",
       "5919    487.001214   145.441886\n",
       "507352  487.001214  1347.175815\n",
       "402170  394.541600   163.479438\n",
       "285488  440.771407  -413.404163\n",
       "...            ...          ...\n",
       "188461  394.541600  -382.743820\n",
       "189111  487.001214   179.392865\n",
       "467493  440.771407  -432.515667\n",
       "551839  440.771407  -319.815818\n",
       "324874  394.541600   705.227225\n",
       "\n",
       "[110525 rows x 2 columns]"
      ]
     },
     "execution_count": 16,
     "metadata": {},
     "output_type": "execute_result"
    }
   ],
   "source": [
    "df_pred_lmf_region_co2_TE"
   ]
  },
  {
   "cell_type": "markdown",
   "metadata": {
    "vscode": {
     "languageId": "markdown"
    }
   },
   "source": [
    "## 3.4. Residuen"
   ]
  },
  {
   "cell_type": "markdown",
   "metadata": {},
   "source": [
    "Wir erstellen wiederum einen Boxplot für die Residuen, diesmal separat für Trainings- und Testdaten. "
   ]
  },
  {
   "cell_type": "code",
   "execution_count": 17,
   "metadata": {
    "vscode": {
     "languageId": "markdown"
    }
   },
   "outputs": [
    {
     "data": {
      "image/png": "[encoded data removed]",
      "text/plain": [
       "<Figure size 800x600 with 1 Axes>"
      ]
     },
     "metadata": {},
     "output_type": "display_data"
    }
   ],
   "source": [
    "# Residuen aus den Trainingsdaten extrahieren\n",
    "resid_train = df_pred_lmf_region_co2_TR['Residuum']\n",
    "\n",
    "# Boxplot für Residuen der Trainingsdaten erstellen\n",
    "plt.figure(figsize=(8, 6))\n",
    "sns.boxplot(data=resid_train)\n",
    "plt.ylabel(\"Residuum\")\n",
    "plt.title(\"Boxplot der Residuen - Trainingsdaten\")\n",
    "plt.show()"
   ]
  },
  {
   "cell_type": "code",
   "execution_count": 18,
   "metadata": {
    "vscode": {
     "languageId": "markdown"
    }
   },
   "outputs": [
    {
     "data": {
      "image/png": "[encoded data removed]",
      "text/plain": [
       "<Figure size 800x600 with 1 Axes>"
      ]
     },
     "metadata": {},
     "output_type": "display_data"
    }
   ],
   "source": [
    "# Residuen aus den Testdaten extrahieren\n",
    "resid_test = df_pred_lmf_region_co2_TE['Residuum']\n",
    "\n",
    "# Boxplot für Residuen der Testdaten erstellen\n",
    "plt.figure(figsize=(8, 6))\n",
    "sns.boxplot(data=resid_test)\n",
    "plt.ylabel(\"Residuum\")\n",
    "plt.title(\"Boxplot der Residuen - Testdaten\")\n",
    "plt.show()"
   ]
  },
  {
   "cell_type": "markdown",
   "metadata": {},
   "source": [
    "Die Box repräsentiert den Interquartilsbereich (IQR), der von den 25. bis 75. Perzentilen reicht. Das bedeutet, dass 50 % der Residuen innerhalb dieser Box liegen.\n",
    "Der Median der Residuen ist nahe bei 0, was darauf hinweist, dass das Modell tendenziell gut zentriert ist.\n",
    "Es gibt viele Ausreisser (Punkte oberhalb der Box), die auf grosse Fehler im Modell hinweisen. Diese grossen Residuen sind wahrscheinlich extreme Abweichungen zwischen den vorhergesagten und tatsächlichen Werten.\n",
    "Die Whiskers (die Linien, die aus der Box herausragen) zeigen die Verteilung der Residuen an, die nicht als Ausreisser gelten. Diese reichen bis zu den 1,5-fachen des IQRs von den Quartilen."
   ]
  },
  {
   "cell_type": "markdown",
   "metadata": {},
   "source": [
    "## 3.5. Erweiterung (komplexeres Modell)"
   ]
  },
  {
   "cell_type": "code",
   "execution_count": 19,
   "metadata": {
    "vscode": {
     "languageId": "markdown"
    }
   },
   "outputs": [],
   "source": [
    "## 3.6. Hinzunahme kategorischer Variablen (nebst Raumstruktur und CO2 Emissionen + Alter, Erwerbsstatus, Haushaltseinkommen, Geschlecht, Raum)\n",
    "lmf_region_sozio_co2 = smf.ols('CO2E_TOTAL ~ HH_STADT_LAND + ZP_ALTER + ZP_GESL + HH_HAUSHALTSEINKOMMEN', \n",
    "                              data=train)"
   ]
  },
  {
   "cell_type": "code",
   "execution_count": 20,
   "metadata": {
    "vscode": {
     "languageId": "markdown"
    }
   },
   "outputs": [
    {
     "data": {
      "text/html": [
       "<table class=\"simpletable\">\n",
       "<caption>OLS Regression Results</caption>\n",
       "<tr>\n",
       "  <th>Dep. Variable:</th>       <td>CO2E_TOTAL</td>    <th>  R-squared:         </th>  <td>   0.008</td>  \n",
       "</tr>\n",
       "<tr>\n",
       "  <th>Model:</th>                   <td>OLS</td>       <th>  Adj. R-squared:    </th>  <td>   0.008</td>  \n",
       "</tr>\n",
       "<tr>\n",
       "  <th>Method:</th>             <td>Least Squares</td>  <th>  F-statistic:       </th>  <td>   612.5</td>  \n",
       "</tr>\n",
       "<tr>\n",
       "  <th>Date:</th>             <td>Sun, 08 Dec 2024</td> <th>  Prob (F-statistic):</th>   <td>  0.00</td>   \n",
       "</tr>\n",
       "<tr>\n",
       "  <th>Time:</th>                 <td>20:02:19</td>     <th>  Log-Likelihood:    </th> <td>-2.1352e+06</td>\n",
       "</tr>\n",
       "<tr>\n",
       "  <th>No. Observations:</th>      <td>285955</td>      <th>  AIC:               </th>  <td>4.270e+06</td> \n",
       "</tr>\n",
       "<tr>\n",
       "  <th>Df Residuals:</th>          <td>285950</td>      <th>  BIC:               </th>  <td>4.271e+06</td> \n",
       "</tr>\n",
       "<tr>\n",
       "  <th>Df Model:</th>              <td>     4</td>      <th>                     </th>      <td> </td>     \n",
       "</tr>\n",
       "<tr>\n",
       "  <th>Covariance Type:</th>      <td>nonrobust</td>    <th>                     </th>      <td> </td>     \n",
       "</tr>\n",
       "</table>\n",
       "<table class=\"simpletable\">\n",
       "<tr>\n",
       "            <td></td>               <th>coef</th>     <th>std err</th>      <th>t</th>      <th>P>|t|</th>  <th>[0.025</th>    <th>0.975]</th>  \n",
       "</tr>\n",
       "<tr>\n",
       "  <th>Intercept</th>             <td>  381.3039</td> <td>    4.772</td> <td>   79.903</td> <td> 0.000</td> <td>  371.951</td> <td>  390.657</td>\n",
       "</tr>\n",
       "<tr>\n",
       "  <th>HH_STADT_LAND</th>         <td>   46.8363</td> <td>    1.046</td> <td>   44.792</td> <td> 0.000</td> <td>   44.787</td> <td>   48.886</td>\n",
       "</tr>\n",
       "<tr>\n",
       "  <th>ZP_ALTER</th>              <td>    0.3878</td> <td>    0.051</td> <td>    7.591</td> <td> 0.000</td> <td>    0.288</td> <td>    0.488</td>\n",
       "</tr>\n",
       "<tr>\n",
       "  <th>ZP_GESL</th>               <td>  -29.7893</td> <td>    1.606</td> <td>  -18.544</td> <td> 0.000</td> <td>  -32.938</td> <td>  -26.641</td>\n",
       "</tr>\n",
       "<tr>\n",
       "  <th>HH_HAUSHALTSEINKOMMEN</th> <td>   -0.0002</td> <td>    0.000</td> <td>   -0.921</td> <td> 0.357</td> <td>   -0.001</td> <td>    0.000</td>\n",
       "</tr>\n",
       "</table>\n",
       "<table class=\"simpletable\">\n",
       "<tr>\n",
       "  <th>Omnibus:</th>       <td>157647.720</td> <th>  Durbin-Watson:     </th>  <td>   2.005</td>  \n",
       "</tr>\n",
       "<tr>\n",
       "  <th>Prob(Omnibus):</th>   <td> 0.000</td>   <th>  Jarque-Bera (JB):  </th> <td>1882703.146</td>\n",
       "</tr>\n",
       "<tr>\n",
       "  <th>Skew:</th>            <td> 2.422</td>   <th>  Prob(JB):          </th>  <td>    0.00</td>  \n",
       "</tr>\n",
       "<tr>\n",
       "  <th>Kurtosis:</th>        <td>14.599</td>   <th>  Cond. No.          </th>  <td>7.01e+04</td>  \n",
       "</tr>\n",
       "</table><br/><br/>Notes:<br/>[1] Standard Errors assume that the covariance matrix of the errors is correctly specified.<br/>[2] The condition number is large, 7.01e+04. This might indicate that there are<br/>strong multicollinearity or other numerical problems."
      ],
      "text/latex": [
       "\\begin{center}\n",
       "\\begin{tabular}{lclc}\n",
       "\\toprule\n",
       "\\textbf{Dep. Variable:}         &   CO2E\\_TOTAL    & \\textbf{  R-squared:         } &      0.008   \\\\\n",
       "\\textbf{Model:}                 &       OLS        & \\textbf{  Adj. R-squared:    } &      0.008   \\\\\n",
       "\\textbf{Method:}                &  Least Squares   & \\textbf{  F-statistic:       } &      612.5   \\\\\n",
       "\\textbf{Date:}                  & Sun, 08 Dec 2024 & \\textbf{  Prob (F-statistic):} &      0.00    \\\\\n",
       "\\textbf{Time:}                  &     20:02:19     & \\textbf{  Log-Likelihood:    } & -2.1352e+06  \\\\\n",
       "\\textbf{No. Observations:}      &      285955      & \\textbf{  AIC:               } &  4.270e+06   \\\\\n",
       "\\textbf{Df Residuals:}          &      285950      & \\textbf{  BIC:               } &  4.271e+06   \\\\\n",
       "\\textbf{Df Model:}              &           4      & \\textbf{                     } &              \\\\\n",
       "\\textbf{Covariance Type:}       &    nonrobust     & \\textbf{                     } &              \\\\\n",
       "\\bottomrule\n",
       "\\end{tabular}\n",
       "\\begin{tabular}{lcccccc}\n",
       "                                & \\textbf{coef} & \\textbf{std err} & \\textbf{t} & \\textbf{P$> |$t$|$} & \\textbf{[0.025} & \\textbf{0.975]}  \\\\\n",
       "\\midrule\n",
       "\\textbf{Intercept}              &     381.3039  &        4.772     &    79.903  &         0.000        &      371.951    &      390.657     \\\\\n",
       "\\textbf{HH\\_STADT\\_LAND}        &      46.8363  &        1.046     &    44.792  &         0.000        &       44.787    &       48.886     \\\\\n",
       "\\textbf{ZP\\_ALTER}              &       0.3878  &        0.051     &     7.591  &         0.000        &        0.288    &        0.488     \\\\\n",
       "\\textbf{ZP\\_GESL}               &     -29.7893  &        1.606     &   -18.544  &         0.000        &      -32.938    &      -26.641     \\\\\n",
       "\\textbf{HH\\_HAUSHALTSEINKOMMEN} &      -0.0002  &        0.000     &    -0.921  &         0.357        &       -0.001    &        0.000     \\\\\n",
       "\\bottomrule\n",
       "\\end{tabular}\n",
       "\\begin{tabular}{lclc}\n",
       "\\textbf{Omnibus:}       & 157647.720 & \\textbf{  Durbin-Watson:     } &      2.005   \\\\\n",
       "\\textbf{Prob(Omnibus):} &    0.000   & \\textbf{  Jarque-Bera (JB):  } & 1882703.146  \\\\\n",
       "\\textbf{Skew:}          &    2.422   & \\textbf{  Prob(JB):          } &       0.00   \\\\\n",
       "\\textbf{Kurtosis:}      &   14.599   & \\textbf{  Cond. No.          } &   7.01e+04   \\\\\n",
       "\\bottomrule\n",
       "\\end{tabular}\n",
       "%\\caption{OLS Regression Results}\n",
       "\\end{center}\n",
       "\n",
       "Notes: \\newline\n",
       " [1] Standard Errors assume that the covariance matrix of the errors is correctly specified. \\newline\n",
       " [2] The condition number is large, 7.01e+04. This might indicate that there are \\newline\n",
       " strong multicollinearity or other numerical problems."
      ],
      "text/plain": [
       "<class 'statsmodels.iolib.summary.Summary'>\n",
       "\"\"\"\n",
       "                            OLS Regression Results                            \n",
       "==============================================================================\n",
       "Dep. Variable:             CO2E_TOTAL   R-squared:                       0.008\n",
       "Model:                            OLS   Adj. R-squared:                  0.008\n",
       "Method:                 Least Squares   F-statistic:                     612.5\n",
       "Date:                Sun, 08 Dec 2024   Prob (F-statistic):               0.00\n",
       "Time:                        20:02:19   Log-Likelihood:            -2.1352e+06\n",
       "No. Observations:              285955   AIC:                         4.270e+06\n",
       "Df Residuals:                  285950   BIC:                         4.271e+06\n",
       "Df Model:                           4                                         \n",
       "Covariance Type:            nonrobust                                         \n",
       "=========================================================================================\n",
       "                            coef    std err          t      P>|t|      [0.025      0.975]\n",
       "-----------------------------------------------------------------------------------------\n",
       "Intercept               381.3039      4.772     79.903      0.000     371.951     390.657\n",
       "HH_STADT_LAND            46.8363      1.046     44.792      0.000      44.787      48.886\n",
       "ZP_ALTER                  0.3878      0.051      7.591      0.000       0.288       0.488\n",
       "ZP_GESL                 -29.7893      1.606    -18.544      0.000     -32.938     -26.641\n",
       "HH_HAUSHALTSEINKOMMEN    -0.0002      0.000     -0.921      0.357      -0.001       0.000\n",
       "==============================================================================\n",
       "Omnibus:                   157647.720   Durbin-Watson:                   2.005\n",
       "Prob(Omnibus):                  0.000   Jarque-Bera (JB):          1882703.146\n",
       "Skew:                           2.422   Prob(JB):                         0.00\n",
       "Kurtosis:                      14.599   Cond. No.                     7.01e+04\n",
       "==============================================================================\n",
       "\n",
       "Notes:\n",
       "[1] Standard Errors assume that the covariance matrix of the errors is correctly specified.\n",
       "[2] The condition number is large, 7.01e+04. This might indicate that there are\n",
       "strong multicollinearity or other numerical problems.\n",
       "\"\"\""
      ]
     },
     "execution_count": 20,
     "metadata": {},
     "output_type": "execute_result"
    }
   ],
   "source": [
    "fitted_lmf_region_sozio_co2 = lmf_region_sozio_co2.fit()\n",
    "fitted_lmf_region_sozio_co2.summary()"
   ]
  },
  {
   "cell_type": "markdown",
   "metadata": {},
   "source": [
    "Das Modell erklärt nur einen kleinen Teil der Variation in den CO2-Emissionen (R² = 0.01), was bedeutet, dass es viele andere Faktoren gibt, die das Modell nicht erfasst.\n",
    "Die unabhängigen Variablen sind signifikant, aber die geringe erklärende Kraft des Modells deutet darauf hin, dass das Modell in seiner derzeitigen Form nicht ausreicht, um die CO2-Emissionen gut vorherzusagen.\n",
    "Eine genauere Untersuchung der Residuen (insbesondere deren Nicht-Normalverteilung) und möglicherweise die Einbeziehung weiterer relevanter Variablen könnte erforderlich sein, um das Modell zu verbessern."
   ]
  },
  {
   "cell_type": "code",
   "execution_count": 21,
   "metadata": {
    "vscode": {
     "languageId": "markdown"
    }
   },
   "outputs": [
    {
     "data": {
      "text/plain": [
       "154659           NaN\n",
       "233487           NaN\n",
       "191763    389.617679\n",
       "156415    416.417705\n",
       "396853    449.017627\n",
       "             ...    \n",
       "110268    420.996112\n",
       "259178    411.375919\n",
       "365838           NaN\n",
       "131932    379.571881\n",
       "121958    373.442155\n",
       "Length: 442097, dtype: float64"
      ]
     },
     "execution_count": 21,
     "metadata": {},
     "output_type": "execute_result"
    }
   ],
   "source": [
    "## 3.3. Prädiktion auf Trainings- und Testdaten\n",
    "fitted_lmf_region_sozio_co2.predict(train[[\"HH_STADT_LAND\", \"ZP_ALTER\", \"ZP_GESL\", \"HH_HAUSHALTSEINKOMMEN\"]] )"
   ]
  },
  {
   "cell_type": "code",
   "execution_count": 22,
   "metadata": {
    "vscode": {
     "languageId": "markdown"
    }
   },
   "outputs": [],
   "source": [
    "# Trainingsdaten\n",
    "df_pred_lmf_region_sozio_co2_TR = get_prediction_and_residuum(fitted_lmf_region_sozio_co2, train, \n",
    "                                                  train['CO2E_TOTAL'])\n",
    "\n",
    "# Testdaten\n",
    "df_pred_lmf_region_sozio_co2_TE = get_prediction_and_residuum(fitted_lmf_region_sozio_co2, test, \n",
    "                                                  test['CO2E_TOTAL'])"
   ]
  },
  {
   "cell_type": "code",
   "execution_count": 23,
   "metadata": {
    "vscode": {
     "languageId": "markdown"
    }
   },
   "outputs": [
    {
     "data": {
      "text/html": [
       "<div>\n",
       "<style scoped>\n",
       "    .dataframe tbody tr th:only-of-type {\n",
       "        vertical-align: middle;\n",
       "    }\n",
       "\n",
       "    .dataframe tbody tr th {\n",
       "        vertical-align: top;\n",
       "    }\n",
       "\n",
       "    .dataframe thead th {\n",
       "        text-align: right;\n",
       "    }\n",
       "</style>\n",
       "<table border=\"1\" class=\"dataframe\">\n",
       "  <thead>\n",
       "    <tr style=\"text-align: right;\">\n",
       "      <th></th>\n",
       "      <th>Prediction</th>\n",
       "      <th>Residuum</th>\n",
       "    </tr>\n",
       "  </thead>\n",
       "  <tbody>\n",
       "    <tr>\n",
       "      <th>15101</th>\n",
       "      <td>NaN</td>\n",
       "      <td>NaN</td>\n",
       "    </tr>\n",
       "    <tr>\n",
       "      <th>5919</th>\n",
       "      <td>NaN</td>\n",
       "      <td>NaN</td>\n",
       "    </tr>\n",
       "    <tr>\n",
       "      <th>507352</th>\n",
       "      <td>480.925522</td>\n",
       "      <td>1353.251508</td>\n",
       "    </tr>\n",
       "    <tr>\n",
       "      <th>402170</th>\n",
       "      <td>393.846031</td>\n",
       "      <td>164.175006</td>\n",
       "    </tr>\n",
       "    <tr>\n",
       "      <th>285488</th>\n",
       "      <td>454.059413</td>\n",
       "      <td>-426.692169</td>\n",
       "    </tr>\n",
       "    <tr>\n",
       "      <th>...</th>\n",
       "      <td>...</td>\n",
       "      <td>...</td>\n",
       "    </tr>\n",
       "    <tr>\n",
       "      <th>188461</th>\n",
       "      <td>419.520342</td>\n",
       "      <td>-407.722563</td>\n",
       "    </tr>\n",
       "    <tr>\n",
       "      <th>189111</th>\n",
       "      <td>519.284889</td>\n",
       "      <td>147.109190</td>\n",
       "    </tr>\n",
       "    <tr>\n",
       "      <th>467493</th>\n",
       "      <td>461.816007</td>\n",
       "      <td>-453.560268</td>\n",
       "    </tr>\n",
       "    <tr>\n",
       "      <th>551839</th>\n",
       "      <td>421.441942</td>\n",
       "      <td>-300.486354</td>\n",
       "    </tr>\n",
       "    <tr>\n",
       "      <th>324874</th>\n",
       "      <td>420.646057</td>\n",
       "      <td>679.122768</td>\n",
       "    </tr>\n",
       "  </tbody>\n",
       "</table>\n",
       "<p>110525 rows × 2 columns</p>\n",
       "</div>"
      ],
      "text/plain": [
       "        Prediction     Residuum\n",
       "15101          NaN          NaN\n",
       "5919           NaN          NaN\n",
       "507352  480.925522  1353.251508\n",
       "402170  393.846031   164.175006\n",
       "285488  454.059413  -426.692169\n",
       "...            ...          ...\n",
       "188461  419.520342  -407.722563\n",
       "189111  519.284889   147.109190\n",
       "467493  461.816007  -453.560268\n",
       "551839  421.441942  -300.486354\n",
       "324874  420.646057   679.122768\n",
       "\n",
       "[110525 rows x 2 columns]"
      ]
     },
     "execution_count": 23,
     "metadata": {},
     "output_type": "execute_result"
    }
   ],
   "source": [
    "df_pred_lmf_region_sozio_co2_TE"
   ]
  },
  {
   "cell_type": "code",
   "execution_count": 24,
   "metadata": {
    "vscode": {
     "languageId": "markdown"
    }
   },
   "outputs": [
    {
     "data": {
      "image/png": "[encoded data removed]",
      "text/plain": [
       "<Figure size 800x600 with 1 Axes>"
      ]
     },
     "metadata": {},
     "output_type": "display_data"
    }
   ],
   "source": [
    "# Residuen aus den Trainingsdaten extrahieren\n",
    "resid_train2 = df_pred_lmf_region_sozio_co2_TR['Residuum']\n",
    "\n",
    "# Boxplot für Residuen der Trainingsdaten erstellen\n",
    "plt.figure(figsize=(8, 6))\n",
    "sns.boxplot(data=resid_train2)\n",
    "plt.ylabel(\"Residuum\")\n",
    "plt.title(\"Boxplot der Residuen - Trainingsdaten\")\n",
    "plt.show()"
   ]
  },
  {
   "cell_type": "code",
   "execution_count": 25,
   "metadata": {
    "vscode": {
     "languageId": "markdown"
    }
   },
   "outputs": [
    {
     "data": {
      "image/png": "[encoded data removed]",
      "text/plain": [
       "<Figure size 800x600 with 1 Axes>"
      ]
     },
     "metadata": {},
     "output_type": "display_data"
    }
   ],
   "source": [
    "# Residuen aus den Testdaten extrahieren\n",
    "resid_test2 = df_pred_lmf_region_sozio_co2_TE['Residuum']\n",
    "\n",
    "# Boxplot für Residuen der Testdaten erstellen\n",
    "plt.figure(figsize=(8, 6))\n",
    "sns.boxplot(data=resid_test2)\n",
    "plt.ylabel(\"Residuum\")\n",
    "plt.title(\"Boxplot der Residuen - Testdaten\")\n",
    "plt.show()"
   ]
  },
  {
   "cell_type": "markdown",
   "metadata": {},
   "source": [
    "## Auswertung des komplexeren Modells\n"
   ]
  },
  {
   "cell_type": "code",
   "execution_count": null,
   "metadata": {
    "vscode": {
     "languageId": "markdown"
    }
   },
   "outputs": [],
   "source": []
  },
  {
   "cell_type": "markdown",
   "metadata": {},
   "source": [
    "## 4. Feature Selection"
   ]
  },
  {
   "cell_type": "code",
   "execution_count": 28,
   "metadata": {
    "vscode": {
     "languageId": "markdown"
    }
   },
   "outputs": [],
   "source": [
    "## 4.1. Aufteilung der Daten\n",
    "## 4.2. Modelle definieren und trainieren\n",
    "## 4.3.: Modelle Auswerten auf den Validation-Daten:\n",
    "## 4.4.: Vergleich der Performance auf Testdaten\n",
    "## 4.5. Finale Auswertung des ausgewählten Modells auf den Testdaten"
   ]
  }
 ],
 "metadata": {
  "kernelspec": {
   "display_name": "Base",
   "language": "python",
   "name": "python3"
  },
  "language_info": {
   "codemirror_mode": {
    "name": "ipython",
    "version": 3
   },
   "file_extension": ".py",
   "mimetype": "text/x-python",
   "name": "python",
   "nbconvert_exporter": "python",
   "pygments_lexer": "ipython3",
   "version": "3.11.9"
  }
 },
 "nbformat": 4,
 "nbformat_minor": 2
}
